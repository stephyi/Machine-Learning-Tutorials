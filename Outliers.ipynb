{
  "nbformat": 4,
  "nbformat_minor": 0,
  "metadata": {
    "colab": {
      "name": "Outliers.ipynb",
      "provenance": [],
      "authorship_tag": "ABX9TyPgf0TvcLmY70MkvWYKJTsU",
      "include_colab_link": true
    },
    "kernelspec": {
      "name": "python3",
      "display_name": "Python 3"
    }
  },
  "cells": [
    {
      "cell_type": "markdown",
      "metadata": {
        "id": "view-in-github",
        "colab_type": "text"
      },
      "source": [
        "<a href=\"https://colab.research.google.com/github/stephyi/Machine-Learning-Tutorials/blob/master/Outliers.ipynb\" target=\"_parent\"><img src=\"https://colab.research.google.com/assets/colab-badge.svg\" alt=\"Open In Colab\"/></a>"
      ]
    },
    {
      "cell_type": "code",
      "metadata": {
        "id": "-scSgISxX-MU",
        "colab_type": "code",
        "colab": {}
      },
      "source": [
        "# This Python 3 environment comes with many helpful analytics libraries installed\n",
        "# It is defined by the kaggle/python docker image: https://github.com/kaggle/docker-python\n",
        "# For example, here's several helpful packages to load in \n",
        "\n",
        "import numpy as np # linear algebra\n",
        "import pandas as pd # data processing, CSV file I/O (e.g. pd.read_csv)\n",
        "\n",
        "# Input data files are available in the \"../input/\" directory.\n",
        "# For example, running this (by clicking run or pressing Shift+Enter) will list the files in the input directory\n",
        "\n",
        "import os\n",
        "#print(os.listdir(\"../input\"))\n",
        "\n",
        "# Any results you write to the current directory are saved as output."
      ],
      "execution_count": 1,
      "outputs": []
    },
    {
      "cell_type": "code",
      "metadata": {
        "id": "W7HNvxfJYHsg",
        "colab_type": "code",
        "colab": {
          "base_uri": "https://localhost:8080/",
          "height": 72
        },
        "outputId": "85ac8580-0a4a-4fda-ee73-9539297628e2"
      },
      "source": [
        "# import Libraries\n",
        "import pandas as pd\n",
        "import matplotlib.pyplot as plt\n",
        "import numpy as np\n",
        "import seaborn as sns\n",
        "import warnings\n",
        "warnings.filterwarnings('ignore')\n",
        "from scipy import stats\n",
        "from scipy.stats import norm\n",
        "from sklearn.preprocessing import StandardScaler\n",
        "% matplotlib inline"
      ],
      "execution_count": 2,
      "outputs": [
        {
          "output_type": "stream",
          "text": [
            "/usr/local/lib/python3.6/dist-packages/statsmodels/tools/_testing.py:19: FutureWarning: pandas.util.testing is deprecated. Use the functions in the public API at pandas.testing instead.\n",
            "  import pandas.util.testing as tm\n"
          ],
          "name": "stderr"
        }
      ]
    },
    {
      "cell_type": "code",
      "metadata": {
        "id": "rla2Hg5BYTm0",
        "colab_type": "code",
        "colab": {}
      },
      "source": [
        "train=pd.read_csv('train.csv')\n",
        "test=pd.read_csv('test.csv')"
      ],
      "execution_count": 3,
      "outputs": []
    },
    {
      "cell_type": "code",
      "metadata": {
        "id": "A2pWsUQha5ti",
        "colab_type": "code",
        "colab": {
          "base_uri": "https://localhost:8080/",
          "height": 186
        },
        "outputId": "2522dd5a-bd65-4bee-92f1-30d14bc2eb57"
      },
      "source": [
        "train.head(3)"
      ],
      "execution_count": 12,
      "outputs": [
        {
          "output_type": "execute_result",
          "data": {
            "text/html": [
              "<div>\n",
              "<style scoped>\n",
              "    .dataframe tbody tr th:only-of-type {\n",
              "        vertical-align: middle;\n",
              "    }\n",
              "\n",
              "    .dataframe tbody tr th {\n",
              "        vertical-align: top;\n",
              "    }\n",
              "\n",
              "    .dataframe thead th {\n",
              "        text-align: right;\n",
              "    }\n",
              "</style>\n",
              "<table border=\"1\" class=\"dataframe\">\n",
              "  <thead>\n",
              "    <tr style=\"text-align: right;\">\n",
              "      <th></th>\n",
              "      <th>Id</th>\n",
              "      <th>MSSubClass</th>\n",
              "      <th>MSZoning</th>\n",
              "      <th>LotFrontage</th>\n",
              "      <th>LotArea</th>\n",
              "      <th>Street</th>\n",
              "      <th>Alley</th>\n",
              "      <th>LotShape</th>\n",
              "      <th>LandContour</th>\n",
              "      <th>Utilities</th>\n",
              "      <th>LotConfig</th>\n",
              "      <th>LandSlope</th>\n",
              "      <th>Neighborhood</th>\n",
              "      <th>Condition1</th>\n",
              "      <th>Condition2</th>\n",
              "      <th>BldgType</th>\n",
              "      <th>HouseStyle</th>\n",
              "      <th>OverallQual</th>\n",
              "      <th>OverallCond</th>\n",
              "      <th>YearBuilt</th>\n",
              "      <th>YearRemodAdd</th>\n",
              "      <th>RoofStyle</th>\n",
              "      <th>RoofMatl</th>\n",
              "      <th>Exterior1st</th>\n",
              "      <th>Exterior2nd</th>\n",
              "      <th>MasVnrType</th>\n",
              "      <th>MasVnrArea</th>\n",
              "      <th>ExterQual</th>\n",
              "      <th>ExterCond</th>\n",
              "      <th>Foundation</th>\n",
              "      <th>BsmtQual</th>\n",
              "      <th>BsmtCond</th>\n",
              "      <th>BsmtExposure</th>\n",
              "      <th>BsmtFinType1</th>\n",
              "      <th>BsmtFinSF1</th>\n",
              "      <th>BsmtFinType2</th>\n",
              "      <th>BsmtFinSF2</th>\n",
              "      <th>BsmtUnfSF</th>\n",
              "      <th>TotalBsmtSF</th>\n",
              "      <th>Heating</th>\n",
              "      <th>...</th>\n",
              "      <th>CentralAir</th>\n",
              "      <th>Electrical</th>\n",
              "      <th>1stFlrSF</th>\n",
              "      <th>2ndFlrSF</th>\n",
              "      <th>LowQualFinSF</th>\n",
              "      <th>GrLivArea</th>\n",
              "      <th>BsmtFullBath</th>\n",
              "      <th>BsmtHalfBath</th>\n",
              "      <th>FullBath</th>\n",
              "      <th>HalfBath</th>\n",
              "      <th>BedroomAbvGr</th>\n",
              "      <th>KitchenAbvGr</th>\n",
              "      <th>KitchenQual</th>\n",
              "      <th>TotRmsAbvGrd</th>\n",
              "      <th>Functional</th>\n",
              "      <th>Fireplaces</th>\n",
              "      <th>FireplaceQu</th>\n",
              "      <th>GarageType</th>\n",
              "      <th>GarageYrBlt</th>\n",
              "      <th>GarageFinish</th>\n",
              "      <th>GarageCars</th>\n",
              "      <th>GarageArea</th>\n",
              "      <th>GarageQual</th>\n",
              "      <th>GarageCond</th>\n",
              "      <th>PavedDrive</th>\n",
              "      <th>WoodDeckSF</th>\n",
              "      <th>OpenPorchSF</th>\n",
              "      <th>EnclosedPorch</th>\n",
              "      <th>3SsnPorch</th>\n",
              "      <th>ScreenPorch</th>\n",
              "      <th>PoolArea</th>\n",
              "      <th>PoolQC</th>\n",
              "      <th>Fence</th>\n",
              "      <th>MiscFeature</th>\n",
              "      <th>MiscVal</th>\n",
              "      <th>MoSold</th>\n",
              "      <th>YrSold</th>\n",
              "      <th>SaleType</th>\n",
              "      <th>SaleCondition</th>\n",
              "      <th>SalePrice</th>\n",
              "    </tr>\n",
              "  </thead>\n",
              "  <tbody>\n",
              "    <tr>\n",
              "      <th>0</th>\n",
              "      <td>1</td>\n",
              "      <td>60</td>\n",
              "      <td>RL</td>\n",
              "      <td>65.0</td>\n",
              "      <td>8450</td>\n",
              "      <td>Pave</td>\n",
              "      <td>NaN</td>\n",
              "      <td>Reg</td>\n",
              "      <td>Lvl</td>\n",
              "      <td>AllPub</td>\n",
              "      <td>Inside</td>\n",
              "      <td>Gtl</td>\n",
              "      <td>CollgCr</td>\n",
              "      <td>Norm</td>\n",
              "      <td>Norm</td>\n",
              "      <td>1Fam</td>\n",
              "      <td>2Story</td>\n",
              "      <td>7</td>\n",
              "      <td>5</td>\n",
              "      <td>2003</td>\n",
              "      <td>2003</td>\n",
              "      <td>Gable</td>\n",
              "      <td>CompShg</td>\n",
              "      <td>VinylSd</td>\n",
              "      <td>VinylSd</td>\n",
              "      <td>BrkFace</td>\n",
              "      <td>196.0</td>\n",
              "      <td>Gd</td>\n",
              "      <td>TA</td>\n",
              "      <td>PConc</td>\n",
              "      <td>Gd</td>\n",
              "      <td>TA</td>\n",
              "      <td>No</td>\n",
              "      <td>GLQ</td>\n",
              "      <td>706</td>\n",
              "      <td>Unf</td>\n",
              "      <td>0</td>\n",
              "      <td>150</td>\n",
              "      <td>856</td>\n",
              "      <td>GasA</td>\n",
              "      <td>...</td>\n",
              "      <td>Y</td>\n",
              "      <td>SBrkr</td>\n",
              "      <td>856</td>\n",
              "      <td>854</td>\n",
              "      <td>0</td>\n",
              "      <td>1710</td>\n",
              "      <td>1</td>\n",
              "      <td>0</td>\n",
              "      <td>2</td>\n",
              "      <td>1</td>\n",
              "      <td>3</td>\n",
              "      <td>1</td>\n",
              "      <td>Gd</td>\n",
              "      <td>8</td>\n",
              "      <td>Typ</td>\n",
              "      <td>0</td>\n",
              "      <td>NaN</td>\n",
              "      <td>Attchd</td>\n",
              "      <td>2003.0</td>\n",
              "      <td>RFn</td>\n",
              "      <td>2</td>\n",
              "      <td>548</td>\n",
              "      <td>TA</td>\n",
              "      <td>TA</td>\n",
              "      <td>Y</td>\n",
              "      <td>0</td>\n",
              "      <td>61</td>\n",
              "      <td>0</td>\n",
              "      <td>0</td>\n",
              "      <td>0</td>\n",
              "      <td>0</td>\n",
              "      <td>NaN</td>\n",
              "      <td>NaN</td>\n",
              "      <td>NaN</td>\n",
              "      <td>0</td>\n",
              "      <td>2</td>\n",
              "      <td>2008</td>\n",
              "      <td>WD</td>\n",
              "      <td>Normal</td>\n",
              "      <td>208500</td>\n",
              "    </tr>\n",
              "    <tr>\n",
              "      <th>1</th>\n",
              "      <td>2</td>\n",
              "      <td>20</td>\n",
              "      <td>RL</td>\n",
              "      <td>80.0</td>\n",
              "      <td>9600</td>\n",
              "      <td>Pave</td>\n",
              "      <td>NaN</td>\n",
              "      <td>Reg</td>\n",
              "      <td>Lvl</td>\n",
              "      <td>AllPub</td>\n",
              "      <td>FR2</td>\n",
              "      <td>Gtl</td>\n",
              "      <td>Veenker</td>\n",
              "      <td>Feedr</td>\n",
              "      <td>Norm</td>\n",
              "      <td>1Fam</td>\n",
              "      <td>1Story</td>\n",
              "      <td>6</td>\n",
              "      <td>8</td>\n",
              "      <td>1976</td>\n",
              "      <td>1976</td>\n",
              "      <td>Gable</td>\n",
              "      <td>CompShg</td>\n",
              "      <td>MetalSd</td>\n",
              "      <td>MetalSd</td>\n",
              "      <td>None</td>\n",
              "      <td>0.0</td>\n",
              "      <td>TA</td>\n",
              "      <td>TA</td>\n",
              "      <td>CBlock</td>\n",
              "      <td>Gd</td>\n",
              "      <td>TA</td>\n",
              "      <td>Gd</td>\n",
              "      <td>ALQ</td>\n",
              "      <td>978</td>\n",
              "      <td>Unf</td>\n",
              "      <td>0</td>\n",
              "      <td>284</td>\n",
              "      <td>1262</td>\n",
              "      <td>GasA</td>\n",
              "      <td>...</td>\n",
              "      <td>Y</td>\n",
              "      <td>SBrkr</td>\n",
              "      <td>1262</td>\n",
              "      <td>0</td>\n",
              "      <td>0</td>\n",
              "      <td>1262</td>\n",
              "      <td>0</td>\n",
              "      <td>1</td>\n",
              "      <td>2</td>\n",
              "      <td>0</td>\n",
              "      <td>3</td>\n",
              "      <td>1</td>\n",
              "      <td>TA</td>\n",
              "      <td>6</td>\n",
              "      <td>Typ</td>\n",
              "      <td>1</td>\n",
              "      <td>TA</td>\n",
              "      <td>Attchd</td>\n",
              "      <td>1976.0</td>\n",
              "      <td>RFn</td>\n",
              "      <td>2</td>\n",
              "      <td>460</td>\n",
              "      <td>TA</td>\n",
              "      <td>TA</td>\n",
              "      <td>Y</td>\n",
              "      <td>298</td>\n",
              "      <td>0</td>\n",
              "      <td>0</td>\n",
              "      <td>0</td>\n",
              "      <td>0</td>\n",
              "      <td>0</td>\n",
              "      <td>NaN</td>\n",
              "      <td>NaN</td>\n",
              "      <td>NaN</td>\n",
              "      <td>0</td>\n",
              "      <td>5</td>\n",
              "      <td>2007</td>\n",
              "      <td>WD</td>\n",
              "      <td>Normal</td>\n",
              "      <td>181500</td>\n",
              "    </tr>\n",
              "    <tr>\n",
              "      <th>2</th>\n",
              "      <td>3</td>\n",
              "      <td>60</td>\n",
              "      <td>RL</td>\n",
              "      <td>68.0</td>\n",
              "      <td>11250</td>\n",
              "      <td>Pave</td>\n",
              "      <td>NaN</td>\n",
              "      <td>IR1</td>\n",
              "      <td>Lvl</td>\n",
              "      <td>AllPub</td>\n",
              "      <td>Inside</td>\n",
              "      <td>Gtl</td>\n",
              "      <td>CollgCr</td>\n",
              "      <td>Norm</td>\n",
              "      <td>Norm</td>\n",
              "      <td>1Fam</td>\n",
              "      <td>2Story</td>\n",
              "      <td>7</td>\n",
              "      <td>5</td>\n",
              "      <td>2001</td>\n",
              "      <td>2002</td>\n",
              "      <td>Gable</td>\n",
              "      <td>CompShg</td>\n",
              "      <td>VinylSd</td>\n",
              "      <td>VinylSd</td>\n",
              "      <td>BrkFace</td>\n",
              "      <td>162.0</td>\n",
              "      <td>Gd</td>\n",
              "      <td>TA</td>\n",
              "      <td>PConc</td>\n",
              "      <td>Gd</td>\n",
              "      <td>TA</td>\n",
              "      <td>Mn</td>\n",
              "      <td>GLQ</td>\n",
              "      <td>486</td>\n",
              "      <td>Unf</td>\n",
              "      <td>0</td>\n",
              "      <td>434</td>\n",
              "      <td>920</td>\n",
              "      <td>GasA</td>\n",
              "      <td>...</td>\n",
              "      <td>Y</td>\n",
              "      <td>SBrkr</td>\n",
              "      <td>920</td>\n",
              "      <td>866</td>\n",
              "      <td>0</td>\n",
              "      <td>1786</td>\n",
              "      <td>1</td>\n",
              "      <td>0</td>\n",
              "      <td>2</td>\n",
              "      <td>1</td>\n",
              "      <td>3</td>\n",
              "      <td>1</td>\n",
              "      <td>Gd</td>\n",
              "      <td>6</td>\n",
              "      <td>Typ</td>\n",
              "      <td>1</td>\n",
              "      <td>TA</td>\n",
              "      <td>Attchd</td>\n",
              "      <td>2001.0</td>\n",
              "      <td>RFn</td>\n",
              "      <td>2</td>\n",
              "      <td>608</td>\n",
              "      <td>TA</td>\n",
              "      <td>TA</td>\n",
              "      <td>Y</td>\n",
              "      <td>0</td>\n",
              "      <td>42</td>\n",
              "      <td>0</td>\n",
              "      <td>0</td>\n",
              "      <td>0</td>\n",
              "      <td>0</td>\n",
              "      <td>NaN</td>\n",
              "      <td>NaN</td>\n",
              "      <td>NaN</td>\n",
              "      <td>0</td>\n",
              "      <td>9</td>\n",
              "      <td>2008</td>\n",
              "      <td>WD</td>\n",
              "      <td>Normal</td>\n",
              "      <td>223500</td>\n",
              "    </tr>\n",
              "  </tbody>\n",
              "</table>\n",
              "<p>3 rows × 81 columns</p>\n",
              "</div>"
            ],
            "text/plain": [
              "   Id  MSSubClass MSZoning  ...  SaleType  SaleCondition SalePrice\n",
              "0   1          60       RL  ...        WD         Normal    208500\n",
              "1   2          20       RL  ...        WD         Normal    181500\n",
              "2   3          60       RL  ...        WD         Normal    223500\n",
              "\n",
              "[3 rows x 81 columns]"
            ]
          },
          "metadata": {
            "tags": []
          },
          "execution_count": 12
        }
      ]
    },
    {
      "cell_type": "markdown",
      "metadata": {
        "id": "LoDIaddPbuzY",
        "colab_type": "text"
      },
      "source": [
        ""
      ]
    },
    {
      "cell_type": "code",
      "metadata": {
        "id": "1RSg96urbBA-",
        "colab_type": "code",
        "colab": {
          "base_uri": "https://localhost:8080/",
          "height": 176
        },
        "outputId": "338b1ba9-43b2-4ef7-f716-5c9a14e8d4e8"
      },
      "source": [
        "train.SalePrice.describe()"
      ],
      "execution_count": 14,
      "outputs": [
        {
          "output_type": "execute_result",
          "data": {
            "text/plain": [
              "count      1460.000000\n",
              "mean     180921.195890\n",
              "std       79442.502883\n",
              "min       34900.000000\n",
              "25%      129975.000000\n",
              "50%      163000.000000\n",
              "75%      214000.000000\n",
              "max      755000.000000\n",
              "Name: SalePrice, dtype: float64"
            ]
          },
          "metadata": {
            "tags": []
          },
          "execution_count": 14
        }
      ]
    },
    {
      "cell_type": "code",
      "metadata": {
        "id": "7AtSmyVye-RM",
        "colab_type": "code",
        "colab": {
          "base_uri": "https://localhost:8080/",
          "height": 531
        },
        "outputId": "6211ed94-d73a-4248-8b83-a72db061b2d6"
      },
      "source": [
        "import seaborn as sns\n",
        "\n",
        "fig=plt.figure(figsize=(10,8))\n",
        "sns.distplot(train['SalePrice'])\n",
        "plt.title('sales Price distribution')"
      ],
      "execution_count": 17,
      "outputs": [
        {
          "output_type": "execute_result",
          "data": {
            "text/plain": [
              "Text(0.5, 1.0, 'sales Price distribution')"
            ]
          },
          "metadata": {
            "tags": []
          },
          "execution_count": 17
        },
        {
          "output_type": "display_data",
          "data": {
            "image/png": "[encoded data removed]",
            "text/plain": [
              "<Figure size 720x576 with 1 Axes>"
            ]
          },
          "metadata": {
            "tags": [],
            "needs_background": "light"
          }
        }
      ]
    },
    {
      "cell_type": "markdown",
      "metadata": {
        "id": "chppjuJ1glB2",
        "colab_type": "text"
      },
      "source": [
        "**Skewness**-Used to mean the abscence of symmetry from the mean of the dataset.Skewness is used to indicate the shape of the distribution of data.In skewed distribution,the curve is extended to either left or right side.In skewed distribution, the plot is extended to either left or right side.When plot is extended towards the right side more,it denotes positive skewness.When plot is stretched more towards the left direction,then it is called negative skewness.\n",
        "\n",
        "**Kurtosis**-it is the parameter of relative sharpness of the peak of the probability distribution curve.It is used to indicate the flatness or peakness of the frequency distribution curve and measures the tails or outliers of the distribution.Positive kurtosis represents that the distribution is more peaked than the normal distribution,whereas negative kurtosis shoes that the distribution is less peaked than the normal distribution"
      ]
    },
    {
      "cell_type": "code",
      "metadata": {
        "id": "MSh73kJHgkY6",
        "colab_type": "code",
        "colab": {
          "base_uri": "https://localhost:8080/",
          "height": 52
        },
        "outputId": "9bd076d4-1e8b-4f97-c203-b975b5e7a0ce"
      },
      "source": [
        "#Skewness and Kurtosis\n",
        "print('Skewness: %f' %train['SalePrice'].skew())\n",
        "print('Kurtosis: %f' %train['SalePrice'].kurt())"
      ],
      "execution_count": 19,
      "outputs": [
        {
          "output_type": "stream",
          "text": [
            "Skewness: 1.882876\n",
            "Kurtosis: 6.536282\n"
          ],
          "name": "stdout"
        }
      ]
    },
    {
      "cell_type": "markdown",
      "metadata": {
        "id": "tfaf3qyQj__J",
        "colab_type": "text"
      },
      "source": [
        "Use np.log() to transform train.salePrice and calculate the skewness and kurtosis again."
      ]
    },
    {
      "cell_type": "code",
      "metadata": {
        "id": "lU2pQWy0j_b0",
        "colab_type": "code",
        "colab": {
          "base_uri": "https://localhost:8080/",
          "height": 52
        },
        "outputId": "ef7c054d-9878-453b-8bb0-e2fb6f3269b0"
      },
      "source": [
        "target=np.log(train.SalePrice)\n",
        "print('Skewness: %f' % target.skew())\n",
        "print('Kurtosis: %f' % target.kurt())"
      ],
      "execution_count": 20,
      "outputs": [
        {
          "output_type": "stream",
          "text": [
            "Skewness: 0.121335\n",
            "Kurtosis: 0.809532\n"
          ],
          "name": "stdout"
        }
      ]
    },
    {
      "cell_type": "markdown",
      "metadata": {
        "id": "su6XWi9-kVJA",
        "colab_type": "text"
      },
      "source": [
        "Working with numeric features"
      ]
    },
    {
      "cell_type": "code",
      "metadata": {
        "id": "Hg6AZDlBfMT_",
        "colab_type": "code",
        "colab": {
          "base_uri": "https://localhost:8080/",
          "height": 710
        },
        "outputId": "cd24b59a-d15c-495f-ab8d-8863313754c8"
      },
      "source": [
        "numeric_features=train.select_dtypes(include=[np.number])\n",
        "numeric_features.dtypes"
      ],
      "execution_count": 21,
      "outputs": [
        {
          "output_type": "execute_result",
          "data": {
            "text/plain": [
              "Id                 int64\n",
              "MSSubClass         int64\n",
              "LotFrontage      float64\n",
              "LotArea            int64\n",
              "OverallQual        int64\n",
              "OverallCond        int64\n",
              "YearBuilt          int64\n",
              "YearRemodAdd       int64\n",
              "MasVnrArea       float64\n",
              "BsmtFinSF1         int64\n",
              "BsmtFinSF2         int64\n",
              "BsmtUnfSF          int64\n",
              "TotalBsmtSF        int64\n",
              "1stFlrSF           int64\n",
              "2ndFlrSF           int64\n",
              "LowQualFinSF       int64\n",
              "GrLivArea          int64\n",
              "BsmtFullBath       int64\n",
              "BsmtHalfBath       int64\n",
              "FullBath           int64\n",
              "HalfBath           int64\n",
              "BedroomAbvGr       int64\n",
              "KitchenAbvGr       int64\n",
              "TotRmsAbvGrd       int64\n",
              "Fireplaces         int64\n",
              "GarageYrBlt      float64\n",
              "GarageCars         int64\n",
              "GarageArea         int64\n",
              "WoodDeckSF         int64\n",
              "OpenPorchSF        int64\n",
              "EnclosedPorch      int64\n",
              "3SsnPorch          int64\n",
              "ScreenPorch        int64\n",
              "PoolArea           int64\n",
              "MiscVal            int64\n",
              "MoSold             int64\n",
              "YrSold             int64\n",
              "SalePrice          int64\n",
              "dtype: object"
            ]
          },
          "metadata": {
            "tags": []
          },
          "execution_count": 21
        }
      ]
    },
    {
      "cell_type": "code",
      "metadata": {
        "id": "MkP797MakiaC",
        "colab_type": "code",
        "colab": {
          "base_uri": "https://localhost:8080/",
          "height": 710
        },
        "outputId": "028dd438-7f70-415c-dbb7-fe24cc7aa166"
      },
      "source": [
        "print(train.describe(include=['number']).loc[['min','max','mean']].T.sort_values('max'))"
      ],
      "execution_count": 22,
      "outputs": [
        {
          "output_type": "stream",
          "text": [
            "                   min       max           mean\n",
            "BsmtHalfBath       0.0       2.0       0.057534\n",
            "HalfBath           0.0       2.0       0.382877\n",
            "FullBath           0.0       3.0       1.565068\n",
            "KitchenAbvGr       0.0       3.0       1.046575\n",
            "BsmtFullBath       0.0       3.0       0.425342\n",
            "Fireplaces         0.0       3.0       0.613014\n",
            "GarageCars         0.0       4.0       1.767123\n",
            "BedroomAbvGr       0.0       8.0       2.866438\n",
            "OverallCond        1.0       9.0       5.575342\n",
            "OverallQual        1.0      10.0       6.099315\n",
            "MoSold             1.0      12.0       6.321918\n",
            "TotRmsAbvGrd       2.0      14.0       6.517808\n",
            "MSSubClass        20.0     190.0      56.897260\n",
            "LotFrontage       21.0     313.0      70.049958\n",
            "ScreenPorch        0.0     480.0      15.060959\n",
            "3SsnPorch          0.0     508.0       3.409589\n",
            "OpenPorchSF        0.0     547.0      46.660274\n",
            "EnclosedPorch      0.0     552.0      21.954110\n",
            "LowQualFinSF       0.0     572.0       5.844521\n",
            "PoolArea           0.0     738.0       2.758904\n",
            "WoodDeckSF         0.0     857.0      94.244521\n",
            "GarageArea         0.0    1418.0     472.980137\n",
            "Id                 1.0    1460.0     730.500000\n",
            "BsmtFinSF2         0.0    1474.0      46.549315\n",
            "MasVnrArea         0.0    1600.0     103.685262\n",
            "GarageYrBlt     1900.0    2010.0    1978.506164\n",
            "YearRemodAdd    1950.0    2010.0    1984.865753\n",
            "YearBuilt       1872.0    2010.0    1971.267808\n",
            "YrSold          2006.0    2010.0    2007.815753\n",
            "2ndFlrSF           0.0    2065.0     346.992466\n",
            "BsmtUnfSF          0.0    2336.0     567.240411\n",
            "1stFlrSF         334.0    4692.0    1162.626712\n",
            "GrLivArea        334.0    5642.0    1515.463699\n",
            "BsmtFinSF1         0.0    5644.0     443.639726\n",
            "TotalBsmtSF        0.0    6110.0    1057.429452\n",
            "MiscVal            0.0   15500.0      43.489041\n",
            "LotArea         1300.0  215245.0   10516.828082\n",
            "SalePrice      34900.0  755000.0  180921.195890\n"
          ],
          "name": "stdout"
        }
      ]
    },
    {
      "cell_type": "code",
      "metadata": {
        "id": "cyPrQ2m-lB0j",
        "colab_type": "code",
        "colab": {
          "base_uri": "https://localhost:8080/",
          "height": 247
        },
        "outputId": "449c1cf9-264d-4da0-a7f9-b24695ea9c5e"
      },
      "source": [
        "corr=numeric_features.corr()\n",
        "print(corr['SalePrice'].sort_values(ascending=False)[:5],'\\n')\n",
        "print(corr['SalePrice'].sort_values(ascending=False)[-5:])"
      ],
      "execution_count": 23,
      "outputs": [
        {
          "output_type": "stream",
          "text": [
            "SalePrice      1.000000\n",
            "OverallQual    0.790982\n",
            "GrLivArea      0.708624\n",
            "GarageCars     0.640409\n",
            "GarageArea     0.623431\n",
            "Name: SalePrice, dtype: float64 \n",
            "\n",
            "YrSold          -0.028923\n",
            "OverallCond     -0.077856\n",
            "MSSubClass      -0.084284\n",
            "EnclosedPorch   -0.128578\n",
            "KitchenAbvGr    -0.135907\n",
            "Name: SalePrice, dtype: float64\n"
          ],
          "name": "stdout"
        }
      ]
    },
    {
      "cell_type": "code",
      "metadata": {
        "id": "1E-otI0clpM-",
        "colab_type": "code",
        "colab": {
          "base_uri": "https://localhost:8080/",
          "height": 727
        },
        "outputId": "a57a3f98-24c3-40b3-cf79-4bc83d2fdb26"
      },
      "source": [
        "# SalePrice Correlation Matrix\n",
        "k=10\n",
        "cols=corr.nlargest(k,'SalePrice')['SalePrice'].index\n",
        "cm=np.corrcoef(train[cols].values.T)\n",
        "sns.set(font_scale=1.00)\n",
        "hm=sns.clustermap(cm,cmap='Greens',cbar=True,square=True,yticklabels=cols.values,xticklabels=cols.values)"
      ],
      "execution_count": 24,
      "outputs": [
        {
          "output_type": "display_data",
          "data": {
            "image/png": "[encoded data removed]",
            "text/plain": [
              "<Figure size 720x720 with 4 Axes>"
            ]
          },
          "metadata": {
            "tags": []
          }
        }
      ]
    },
    {
      "cell_type": "code",
      "metadata": {
        "id": "3KJp6r7bnQHm",
        "colab_type": "code",
        "colab": {
          "base_uri": "https://localhost:8080/",
          "height": 284
        },
        "outputId": "8dd7885f-353e-40bb-de2e-0628b5cffda9"
      },
      "source": [
        "quality_pivot=train.pivot_table(index='OverallQual',values='SalePrice',aggfunc=np.median)\n",
        "quality_pivot.plot(kind='bar',color='blue')\n",
        "plt.xlabel('Overall Quality')\n",
        "plt.ylabel('Median Sale Price')\n",
        "plt.xticks(rotation=0)\n",
        "plt.show()"
      ],
      "execution_count": 34,
      "outputs": [
        {
          "output_type": "display_data",
          "data": {
            "image/png": "[encoded data removed]",
            "text/plain": [
              "<Figure size 432x288 with 1 Axes>"
            ]
          },
          "metadata": {
            "tags": []
          }
        }
      ]
    },
    {
      "cell_type": "code",
      "metadata": {
        "id": "Pxhg3zwnoEM8",
        "colab_type": "code",
        "colab": {
          "base_uri": "https://localhost:8080/",
          "height": 264
        },
        "outputId": "38c7d87f-60b8-402a-dcf5-c25547e79e6a"
      },
      "source": [
        "garage_cars=train.groupby('GarageCars').agg({'SalePrice':'median'}).reset_index(False).sort_values('SalePrice',ascending=False)\n",
        "garage_cars.plot(kind='bar',color='blue')\n",
        "plt.show()"
      ],
      "execution_count": 42,
      "outputs": [
        {
          "output_type": "display_data",
          "data": {
            "image/png": "[encoded data removed]",
            "text/plain": [
              "<Figure size 432x288 with 1 Axes>"
            ]
          },
          "metadata": {
            "tags": []
          }
        }
      ]
    },
    {
      "cell_type": "code",
      "metadata": {
        "id": "Rsd4wqf7re8P",
        "colab_type": "code",
        "colab": {
          "base_uri": "https://localhost:8080/",
          "height": 227
        },
        "outputId": "4eb7ccbf-05c8-46b2-ca9a-918d10615b23"
      },
      "source": [
        "garage_car=train.pivot_table(index='GarageCars',values='SalePrice',aggfunc=np.median)\n",
        "garage_car"
      ],
      "execution_count": 45,
      "outputs": [
        {
          "output_type": "execute_result",
          "data": {
            "text/html": [
              "<div>\n",
              "<style scoped>\n",
              "    .dataframe tbody tr th:only-of-type {\n",
              "        vertical-align: middle;\n",
              "    }\n",
              "\n",
              "    .dataframe tbody tr th {\n",
              "        vertical-align: top;\n",
              "    }\n",
              "\n",
              "    .dataframe thead th {\n",
              "        text-align: right;\n",
              "    }\n",
              "</style>\n",
              "<table border=\"1\" class=\"dataframe\">\n",
              "  <thead>\n",
              "    <tr style=\"text-align: right;\">\n",
              "      <th></th>\n",
              "      <th>SalePrice</th>\n",
              "    </tr>\n",
              "    <tr>\n",
              "      <th>GarageCars</th>\n",
              "      <th></th>\n",
              "    </tr>\n",
              "  </thead>\n",
              "  <tbody>\n",
              "    <tr>\n",
              "      <th>0</th>\n",
              "      <td>100000</td>\n",
              "    </tr>\n",
              "    <tr>\n",
              "      <th>1</th>\n",
              "      <td>128000</td>\n",
              "    </tr>\n",
              "    <tr>\n",
              "      <th>2</th>\n",
              "      <td>177750</td>\n",
              "    </tr>\n",
              "    <tr>\n",
              "      <th>3</th>\n",
              "      <td>295000</td>\n",
              "    </tr>\n",
              "    <tr>\n",
              "      <th>4</th>\n",
              "      <td>200000</td>\n",
              "    </tr>\n",
              "  </tbody>\n",
              "</table>\n",
              "</div>"
            ],
            "text/plain": [
              "            SalePrice\n",
              "GarageCars           \n",
              "0              100000\n",
              "1              128000\n",
              "2              177750\n",
              "3              295000\n",
              "4              200000"
            ]
          },
          "metadata": {
            "tags": []
          },
          "execution_count": 45
        }
      ]
    },
    {
      "cell_type": "code",
      "metadata": {
        "id": "7Eafc5yTsOaF",
        "colab_type": "code",
        "colab": {
          "base_uri": "https://localhost:8080/",
          "height": 567
        },
        "outputId": "7e9c2d37-dad9-4223-a84b-c915914775a8"
      },
      "source": [
        "#Histogram and normal probability plot\n",
        "sns.distplot(train['SalePrice'],fit=norm)\n",
        "fig=plt.figure()\n",
        "res=stats.probplot(train['SalePrice'],plot=plt)"
      ],
      "execution_count": 4,
      "outputs": [
        {
          "output_type": "display_data",
          "data": {
            "image/png": "[encoded data removed]",
            "text/plain": [
              "<Figure size 432x288 with 1 Axes>"
            ]
          },
          "metadata": {
            "tags": [],
            "needs_background": "light"
          }
        },
        {
          "output_type": "display_data",
          "data": {
            "image/png": "[encoded data removed]",
            "text/plain": [
              "<Figure size 432x288 with 1 Axes>"
            ]
          },
          "metadata": {
            "tags": [],
            "needs_background": "light"
          }
        }
      ]
    },
    {
      "cell_type": "code",
      "metadata": {
        "id": "-y8il_kAslPx",
        "colab_type": "code",
        "colab": {
          "base_uri": "https://localhost:8080/",
          "height": 647
        },
        "outputId": "1a6c4019-14b0-4bdc-8f0a-16fcf4f4a9e8"
      },
      "source": [
        "## Missing Data\n",
        "total=train.isnull().sum().sort_values(ascending=False)\n",
        "percent=(train.isnull().sum()/train.isnull().count()).sort_values(ascending=False)\n",
        "missing_data=pd.concat([total,percent],axis=1,keys=['Total','Percent'])\n",
        "missing_data.head(20)"
      ],
      "execution_count": 9,
      "outputs": [
        {
          "output_type": "execute_result",
          "data": {
            "text/html": [
              "<div>\n",
              "<style scoped>\n",
              "    .dataframe tbody tr th:only-of-type {\n",
              "        vertical-align: middle;\n",
              "    }\n",
              "\n",
              "    .dataframe tbody tr th {\n",
              "        vertical-align: top;\n",
              "    }\n",
              "\n",
              "    .dataframe thead th {\n",
              "        text-align: right;\n",
              "    }\n",
              "</style>\n",
              "<table border=\"1\" class=\"dataframe\">\n",
              "  <thead>\n",
              "    <tr style=\"text-align: right;\">\n",
              "      <th></th>\n",
              "      <th>Total</th>\n",
              "      <th>Percent</th>\n",
              "    </tr>\n",
              "  </thead>\n",
              "  <tbody>\n",
              "    <tr>\n",
              "      <th>PoolQC</th>\n",
              "      <td>1453</td>\n",
              "      <td>0.995205</td>\n",
              "    </tr>\n",
              "    <tr>\n",
              "      <th>MiscFeature</th>\n",
              "      <td>1406</td>\n",
              "      <td>0.963014</td>\n",
              "    </tr>\n",
              "    <tr>\n",
              "      <th>Alley</th>\n",
              "      <td>1369</td>\n",
              "      <td>0.937671</td>\n",
              "    </tr>\n",
              "    <tr>\n",
              "      <th>Fence</th>\n",
              "      <td>1179</td>\n",
              "      <td>0.807534</td>\n",
              "    </tr>\n",
              "    <tr>\n",
              "      <th>FireplaceQu</th>\n",
              "      <td>690</td>\n",
              "      <td>0.472603</td>\n",
              "    </tr>\n",
              "    <tr>\n",
              "      <th>LotFrontage</th>\n",
              "      <td>259</td>\n",
              "      <td>0.177397</td>\n",
              "    </tr>\n",
              "    <tr>\n",
              "      <th>GarageCond</th>\n",
              "      <td>81</td>\n",
              "      <td>0.055479</td>\n",
              "    </tr>\n",
              "    <tr>\n",
              "      <th>GarageType</th>\n",
              "      <td>81</td>\n",
              "      <td>0.055479</td>\n",
              "    </tr>\n",
              "    <tr>\n",
              "      <th>GarageYrBlt</th>\n",
              "      <td>81</td>\n",
              "      <td>0.055479</td>\n",
              "    </tr>\n",
              "    <tr>\n",
              "      <th>GarageFinish</th>\n",
              "      <td>81</td>\n",
              "      <td>0.055479</td>\n",
              "    </tr>\n",
              "    <tr>\n",
              "      <th>GarageQual</th>\n",
              "      <td>81</td>\n",
              "      <td>0.055479</td>\n",
              "    </tr>\n",
              "    <tr>\n",
              "      <th>BsmtExposure</th>\n",
              "      <td>38</td>\n",
              "      <td>0.026027</td>\n",
              "    </tr>\n",
              "    <tr>\n",
              "      <th>BsmtFinType2</th>\n",
              "      <td>38</td>\n",
              "      <td>0.026027</td>\n",
              "    </tr>\n",
              "    <tr>\n",
              "      <th>BsmtFinType1</th>\n",
              "      <td>37</td>\n",
              "      <td>0.025342</td>\n",
              "    </tr>\n",
              "    <tr>\n",
              "      <th>BsmtCond</th>\n",
              "      <td>37</td>\n",
              "      <td>0.025342</td>\n",
              "    </tr>\n",
              "    <tr>\n",
              "      <th>BsmtQual</th>\n",
              "      <td>37</td>\n",
              "      <td>0.025342</td>\n",
              "    </tr>\n",
              "    <tr>\n",
              "      <th>MasVnrArea</th>\n",
              "      <td>8</td>\n",
              "      <td>0.005479</td>\n",
              "    </tr>\n",
              "    <tr>\n",
              "      <th>MasVnrType</th>\n",
              "      <td>8</td>\n",
              "      <td>0.005479</td>\n",
              "    </tr>\n",
              "    <tr>\n",
              "      <th>Electrical</th>\n",
              "      <td>1</td>\n",
              "      <td>0.000685</td>\n",
              "    </tr>\n",
              "    <tr>\n",
              "      <th>Utilities</th>\n",
              "      <td>0</td>\n",
              "      <td>0.000000</td>\n",
              "    </tr>\n",
              "  </tbody>\n",
              "</table>\n",
              "</div>"
            ],
            "text/plain": [
              "              Total   Percent\n",
              "PoolQC         1453  0.995205\n",
              "MiscFeature    1406  0.963014\n",
              "Alley          1369  0.937671\n",
              "Fence          1179  0.807534\n",
              "FireplaceQu     690  0.472603\n",
              "LotFrontage     259  0.177397\n",
              "GarageCond       81  0.055479\n",
              "GarageType       81  0.055479\n",
              "GarageYrBlt      81  0.055479\n",
              "GarageFinish     81  0.055479\n",
              "GarageQual       81  0.055479\n",
              "BsmtExposure     38  0.026027\n",
              "BsmtFinType2     38  0.026027\n",
              "BsmtFinType1     37  0.025342\n",
              "BsmtCond         37  0.025342\n",
              "BsmtQual         37  0.025342\n",
              "MasVnrArea        8  0.005479\n",
              "MasVnrType        8  0.005479\n",
              "Electrical        1  0.000685\n",
              "Utilities         0  0.000000"
            ]
          },
          "metadata": {
            "tags": []
          },
          "execution_count": 9
        }
      ]
    },
    {
      "cell_type": "markdown",
      "metadata": {
        "id": "Y50qq2TCrZi2",
        "colab_type": "text"
      },
      "source": [
        "**NON-NUMERIC FEATURES**"
      ]
    },
    {
      "cell_type": "code",
      "metadata": {
        "id": "ibb5TujzrY9E",
        "colab_type": "code",
        "colab": {
          "base_uri": "https://localhost:8080/",
          "height": 1000
        },
        "outputId": "2f34301e-84dc-4d38-e091-484894e915b1"
      },
      "source": [
        "categoricals=train.select_dtypes(exclude=[np.number])\n",
        "categoricals.describe().T"
      ],
      "execution_count": 11,
      "outputs": [
        {
          "output_type": "execute_result",
          "data": {
            "text/html": [
              "<div>\n",
              "<style scoped>\n",
              "    .dataframe tbody tr th:only-of-type {\n",
              "        vertical-align: middle;\n",
              "    }\n",
              "\n",
              "    .dataframe tbody tr th {\n",
              "        vertical-align: top;\n",
              "    }\n",
              "\n",
              "    .dataframe thead th {\n",
              "        text-align: right;\n",
              "    }\n",
              "</style>\n",
              "<table border=\"1\" class=\"dataframe\">\n",
              "  <thead>\n",
              "    <tr style=\"text-align: right;\">\n",
              "      <th></th>\n",
              "      <th>count</th>\n",
              "      <th>unique</th>\n",
              "      <th>top</th>\n",
              "      <th>freq</th>\n",
              "    </tr>\n",
              "  </thead>\n",
              "  <tbody>\n",
              "    <tr>\n",
              "      <th>MSZoning</th>\n",
              "      <td>1460</td>\n",
              "      <td>5</td>\n",
              "      <td>RL</td>\n",
              "      <td>1151</td>\n",
              "    </tr>\n",
              "    <tr>\n",
              "      <th>Street</th>\n",
              "      <td>1460</td>\n",
              "      <td>2</td>\n",
              "      <td>Pave</td>\n",
              "      <td>1454</td>\n",
              "    </tr>\n",
              "    <tr>\n",
              "      <th>Alley</th>\n",
              "      <td>91</td>\n",
              "      <td>2</td>\n",
              "      <td>Grvl</td>\n",
              "      <td>50</td>\n",
              "    </tr>\n",
              "    <tr>\n",
              "      <th>LotShape</th>\n",
              "      <td>1460</td>\n",
              "      <td>4</td>\n",
              "      <td>Reg</td>\n",
              "      <td>925</td>\n",
              "    </tr>\n",
              "    <tr>\n",
              "      <th>LandContour</th>\n",
              "      <td>1460</td>\n",
              "      <td>4</td>\n",
              "      <td>Lvl</td>\n",
              "      <td>1311</td>\n",
              "    </tr>\n",
              "    <tr>\n",
              "      <th>Utilities</th>\n",
              "      <td>1460</td>\n",
              "      <td>2</td>\n",
              "      <td>AllPub</td>\n",
              "      <td>1459</td>\n",
              "    </tr>\n",
              "    <tr>\n",
              "      <th>LotConfig</th>\n",
              "      <td>1460</td>\n",
              "      <td>5</td>\n",
              "      <td>Inside</td>\n",
              "      <td>1052</td>\n",
              "    </tr>\n",
              "    <tr>\n",
              "      <th>LandSlope</th>\n",
              "      <td>1460</td>\n",
              "      <td>3</td>\n",
              "      <td>Gtl</td>\n",
              "      <td>1382</td>\n",
              "    </tr>\n",
              "    <tr>\n",
              "      <th>Neighborhood</th>\n",
              "      <td>1460</td>\n",
              "      <td>25</td>\n",
              "      <td>NAmes</td>\n",
              "      <td>225</td>\n",
              "    </tr>\n",
              "    <tr>\n",
              "      <th>Condition1</th>\n",
              "      <td>1460</td>\n",
              "      <td>9</td>\n",
              "      <td>Norm</td>\n",
              "      <td>1260</td>\n",
              "    </tr>\n",
              "    <tr>\n",
              "      <th>Condition2</th>\n",
              "      <td>1460</td>\n",
              "      <td>8</td>\n",
              "      <td>Norm</td>\n",
              "      <td>1445</td>\n",
              "    </tr>\n",
              "    <tr>\n",
              "      <th>BldgType</th>\n",
              "      <td>1460</td>\n",
              "      <td>5</td>\n",
              "      <td>1Fam</td>\n",
              "      <td>1220</td>\n",
              "    </tr>\n",
              "    <tr>\n",
              "      <th>HouseStyle</th>\n",
              "      <td>1460</td>\n",
              "      <td>8</td>\n",
              "      <td>1Story</td>\n",
              "      <td>726</td>\n",
              "    </tr>\n",
              "    <tr>\n",
              "      <th>RoofStyle</th>\n",
              "      <td>1460</td>\n",
              "      <td>6</td>\n",
              "      <td>Gable</td>\n",
              "      <td>1141</td>\n",
              "    </tr>\n",
              "    <tr>\n",
              "      <th>RoofMatl</th>\n",
              "      <td>1460</td>\n",
              "      <td>8</td>\n",
              "      <td>CompShg</td>\n",
              "      <td>1434</td>\n",
              "    </tr>\n",
              "    <tr>\n",
              "      <th>Exterior1st</th>\n",
              "      <td>1460</td>\n",
              "      <td>15</td>\n",
              "      <td>VinylSd</td>\n",
              "      <td>515</td>\n",
              "    </tr>\n",
              "    <tr>\n",
              "      <th>Exterior2nd</th>\n",
              "      <td>1460</td>\n",
              "      <td>16</td>\n",
              "      <td>VinylSd</td>\n",
              "      <td>504</td>\n",
              "    </tr>\n",
              "    <tr>\n",
              "      <th>MasVnrType</th>\n",
              "      <td>1452</td>\n",
              "      <td>4</td>\n",
              "      <td>None</td>\n",
              "      <td>864</td>\n",
              "    </tr>\n",
              "    <tr>\n",
              "      <th>ExterQual</th>\n",
              "      <td>1460</td>\n",
              "      <td>4</td>\n",
              "      <td>TA</td>\n",
              "      <td>906</td>\n",
              "    </tr>\n",
              "    <tr>\n",
              "      <th>ExterCond</th>\n",
              "      <td>1460</td>\n",
              "      <td>5</td>\n",
              "      <td>TA</td>\n",
              "      <td>1282</td>\n",
              "    </tr>\n",
              "    <tr>\n",
              "      <th>Foundation</th>\n",
              "      <td>1460</td>\n",
              "      <td>6</td>\n",
              "      <td>PConc</td>\n",
              "      <td>647</td>\n",
              "    </tr>\n",
              "    <tr>\n",
              "      <th>BsmtQual</th>\n",
              "      <td>1423</td>\n",
              "      <td>4</td>\n",
              "      <td>TA</td>\n",
              "      <td>649</td>\n",
              "    </tr>\n",
              "    <tr>\n",
              "      <th>BsmtCond</th>\n",
              "      <td>1423</td>\n",
              "      <td>4</td>\n",
              "      <td>TA</td>\n",
              "      <td>1311</td>\n",
              "    </tr>\n",
              "    <tr>\n",
              "      <th>BsmtExposure</th>\n",
              "      <td>1422</td>\n",
              "      <td>4</td>\n",
              "      <td>No</td>\n",
              "      <td>953</td>\n",
              "    </tr>\n",
              "    <tr>\n",
              "      <th>BsmtFinType1</th>\n",
              "      <td>1423</td>\n",
              "      <td>6</td>\n",
              "      <td>Unf</td>\n",
              "      <td>430</td>\n",
              "    </tr>\n",
              "    <tr>\n",
              "      <th>BsmtFinType2</th>\n",
              "      <td>1422</td>\n",
              "      <td>6</td>\n",
              "      <td>Unf</td>\n",
              "      <td>1256</td>\n",
              "    </tr>\n",
              "    <tr>\n",
              "      <th>Heating</th>\n",
              "      <td>1460</td>\n",
              "      <td>6</td>\n",
              "      <td>GasA</td>\n",
              "      <td>1428</td>\n",
              "    </tr>\n",
              "    <tr>\n",
              "      <th>HeatingQC</th>\n",
              "      <td>1460</td>\n",
              "      <td>5</td>\n",
              "      <td>Ex</td>\n",
              "      <td>741</td>\n",
              "    </tr>\n",
              "    <tr>\n",
              "      <th>CentralAir</th>\n",
              "      <td>1460</td>\n",
              "      <td>2</td>\n",
              "      <td>Y</td>\n",
              "      <td>1365</td>\n",
              "    </tr>\n",
              "    <tr>\n",
              "      <th>Electrical</th>\n",
              "      <td>1459</td>\n",
              "      <td>5</td>\n",
              "      <td>SBrkr</td>\n",
              "      <td>1334</td>\n",
              "    </tr>\n",
              "    <tr>\n",
              "      <th>KitchenQual</th>\n",
              "      <td>1460</td>\n",
              "      <td>4</td>\n",
              "      <td>TA</td>\n",
              "      <td>735</td>\n",
              "    </tr>\n",
              "    <tr>\n",
              "      <th>Functional</th>\n",
              "      <td>1460</td>\n",
              "      <td>7</td>\n",
              "      <td>Typ</td>\n",
              "      <td>1360</td>\n",
              "    </tr>\n",
              "    <tr>\n",
              "      <th>FireplaceQu</th>\n",
              "      <td>770</td>\n",
              "      <td>5</td>\n",
              "      <td>Gd</td>\n",
              "      <td>380</td>\n",
              "    </tr>\n",
              "    <tr>\n",
              "      <th>GarageType</th>\n",
              "      <td>1379</td>\n",
              "      <td>6</td>\n",
              "      <td>Attchd</td>\n",
              "      <td>870</td>\n",
              "    </tr>\n",
              "    <tr>\n",
              "      <th>GarageFinish</th>\n",
              "      <td>1379</td>\n",
              "      <td>3</td>\n",
              "      <td>Unf</td>\n",
              "      <td>605</td>\n",
              "    </tr>\n",
              "    <tr>\n",
              "      <th>GarageQual</th>\n",
              "      <td>1379</td>\n",
              "      <td>5</td>\n",
              "      <td>TA</td>\n",
              "      <td>1311</td>\n",
              "    </tr>\n",
              "    <tr>\n",
              "      <th>GarageCond</th>\n",
              "      <td>1379</td>\n",
              "      <td>5</td>\n",
              "      <td>TA</td>\n",
              "      <td>1326</td>\n",
              "    </tr>\n",
              "    <tr>\n",
              "      <th>PavedDrive</th>\n",
              "      <td>1460</td>\n",
              "      <td>3</td>\n",
              "      <td>Y</td>\n",
              "      <td>1340</td>\n",
              "    </tr>\n",
              "    <tr>\n",
              "      <th>PoolQC</th>\n",
              "      <td>7</td>\n",
              "      <td>3</td>\n",
              "      <td>Gd</td>\n",
              "      <td>3</td>\n",
              "    </tr>\n",
              "    <tr>\n",
              "      <th>Fence</th>\n",
              "      <td>281</td>\n",
              "      <td>4</td>\n",
              "      <td>MnPrv</td>\n",
              "      <td>157</td>\n",
              "    </tr>\n",
              "    <tr>\n",
              "      <th>MiscFeature</th>\n",
              "      <td>54</td>\n",
              "      <td>4</td>\n",
              "      <td>Shed</td>\n",
              "      <td>49</td>\n",
              "    </tr>\n",
              "    <tr>\n",
              "      <th>SaleType</th>\n",
              "      <td>1460</td>\n",
              "      <td>9</td>\n",
              "      <td>WD</td>\n",
              "      <td>1267</td>\n",
              "    </tr>\n",
              "    <tr>\n",
              "      <th>SaleCondition</th>\n",
              "      <td>1460</td>\n",
              "      <td>6</td>\n",
              "      <td>Normal</td>\n",
              "      <td>1198</td>\n",
              "    </tr>\n",
              "  </tbody>\n",
              "</table>\n",
              "</div>"
            ],
            "text/plain": [
              "              count unique      top  freq\n",
              "MSZoning       1460      5       RL  1151\n",
              "Street         1460      2     Pave  1454\n",
              "Alley            91      2     Grvl    50\n",
              "LotShape       1460      4      Reg   925\n",
              "LandContour    1460      4      Lvl  1311\n",
              "Utilities      1460      2   AllPub  1459\n",
              "LotConfig      1460      5   Inside  1052\n",
              "LandSlope      1460      3      Gtl  1382\n",
              "Neighborhood   1460     25    NAmes   225\n",
              "Condition1     1460      9     Norm  1260\n",
              "Condition2     1460      8     Norm  1445\n",
              "BldgType       1460      5     1Fam  1220\n",
              "HouseStyle     1460      8   1Story   726\n",
              "RoofStyle      1460      6    Gable  1141\n",
              "RoofMatl       1460      8  CompShg  1434\n",
              "Exterior1st    1460     15  VinylSd   515\n",
              "Exterior2nd    1460     16  VinylSd   504\n",
              "MasVnrType     1452      4     None   864\n",
              "ExterQual      1460      4       TA   906\n",
              "ExterCond      1460      5       TA  1282\n",
              "Foundation     1460      6    PConc   647\n",
              "BsmtQual       1423      4       TA   649\n",
              "BsmtCond       1423      4       TA  1311\n",
              "BsmtExposure   1422      4       No   953\n",
              "BsmtFinType1   1423      6      Unf   430\n",
              "BsmtFinType2   1422      6      Unf  1256\n",
              "Heating        1460      6     GasA  1428\n",
              "HeatingQC      1460      5       Ex   741\n",
              "CentralAir     1460      2        Y  1365\n",
              "Electrical     1459      5    SBrkr  1334\n",
              "KitchenQual    1460      4       TA   735\n",
              "Functional     1460      7      Typ  1360\n",
              "FireplaceQu     770      5       Gd   380\n",
              "GarageType     1379      6   Attchd   870\n",
              "GarageFinish   1379      3      Unf   605\n",
              "GarageQual     1379      5       TA  1311\n",
              "GarageCond     1379      5       TA  1326\n",
              "PavedDrive     1460      3        Y  1340\n",
              "PoolQC            7      3       Gd     3\n",
              "Fence           281      4    MnPrv   157\n",
              "MiscFeature      54      4     Shed    49\n",
              "SaleType       1460      9       WD  1267\n",
              "SaleCondition  1460      6   Normal  1198"
            ]
          },
          "metadata": {
            "tags": []
          },
          "execution_count": 11
        }
      ]
    },
    {
      "cell_type": "code",
      "metadata": {
        "id": "EI_IRVenqFol",
        "colab_type": "code",
        "colab": {
          "base_uri": "https://localhost:8080/",
          "height": 923
        },
        "outputId": "ce718d68-40ba-4538-99fe-702bb5f888de"
      },
      "source": [
        "for c in categoricals.columns:\n",
        "  #print(\"Column Name\",train[c])\n",
        "  print('{:14}'.format(c), train[c].unique())"
      ],
      "execution_count": 23,
      "outputs": [
        {
          "output_type": "stream",
          "text": [
            "MSZoning       ['RL' 'RM' 'C (all)' 'FV' 'RH']\n",
            "Street         ['Pave' 'Grvl']\n",
            "Alley          [nan 'Grvl' 'Pave']\n",
            "LotShape       ['Reg' 'IR1' 'IR2' 'IR3']\n",
            "LandContour    ['Lvl' 'Bnk' 'Low' 'HLS']\n",
            "Utilities      ['AllPub' 'NoSeWa']\n",
            "LotConfig      ['Inside' 'FR2' 'Corner' 'CulDSac' 'FR3']\n",
            "LandSlope      ['Gtl' 'Mod' 'Sev']\n",
            "Neighborhood   ['CollgCr' 'Veenker' 'Crawfor' 'NoRidge' 'Mitchel' 'Somerst' 'NWAmes'\n",
            " 'OldTown' 'BrkSide' 'Sawyer' 'NridgHt' 'NAmes' 'SawyerW' 'IDOTRR'\n",
            " 'MeadowV' 'Edwards' 'Timber' 'Gilbert' 'StoneBr' 'ClearCr' 'NPkVill'\n",
            " 'Blmngtn' 'BrDale' 'SWISU' 'Blueste']\n",
            "Condition1     ['Norm' 'Feedr' 'PosN' 'Artery' 'RRAe' 'RRNn' 'RRAn' 'PosA' 'RRNe']\n",
            "Condition2     ['Norm' 'Artery' 'RRNn' 'Feedr' 'PosN' 'PosA' 'RRAn' 'RRAe']\n",
            "BldgType       ['1Fam' '2fmCon' 'Duplex' 'TwnhsE' 'Twnhs']\n",
            "HouseStyle     ['2Story' '1Story' '1.5Fin' '1.5Unf' 'SFoyer' 'SLvl' '2.5Unf' '2.5Fin']\n",
            "RoofStyle      ['Gable' 'Hip' 'Gambrel' 'Mansard' 'Flat' 'Shed']\n",
            "RoofMatl       ['CompShg' 'WdShngl' 'Metal' 'WdShake' 'Membran' 'Tar&Grv' 'Roll'\n",
            " 'ClyTile']\n",
            "Exterior1st    ['VinylSd' 'MetalSd' 'Wd Sdng' 'HdBoard' 'BrkFace' 'WdShing' 'CemntBd'\n",
            " 'Plywood' 'AsbShng' 'Stucco' 'BrkComm' 'AsphShn' 'Stone' 'ImStucc'\n",
            " 'CBlock']\n",
            "Exterior2nd    ['VinylSd' 'MetalSd' 'Wd Shng' 'HdBoard' 'Plywood' 'Wd Sdng' 'CmentBd'\n",
            " 'BrkFace' 'Stucco' 'AsbShng' 'Brk Cmn' 'ImStucc' 'AsphShn' 'Stone'\n",
            " 'Other' 'CBlock']\n",
            "MasVnrType     ['BrkFace' 'None' 'Stone' 'BrkCmn' nan]\n",
            "ExterQual      ['Gd' 'TA' 'Ex' 'Fa']\n",
            "ExterCond      ['TA' 'Gd' 'Fa' 'Po' 'Ex']\n",
            "Foundation     ['PConc' 'CBlock' 'BrkTil' 'Wood' 'Slab' 'Stone']\n",
            "BsmtQual       ['Gd' 'TA' 'Ex' nan 'Fa']\n",
            "BsmtCond       ['TA' 'Gd' nan 'Fa' 'Po']\n",
            "BsmtExposure   ['No' 'Gd' 'Mn' 'Av' nan]\n",
            "BsmtFinType1   ['GLQ' 'ALQ' 'Unf' 'Rec' 'BLQ' nan 'LwQ']\n",
            "BsmtFinType2   ['Unf' 'BLQ' nan 'ALQ' 'Rec' 'LwQ' 'GLQ']\n",
            "Heating        ['GasA' 'GasW' 'Grav' 'Wall' 'OthW' 'Floor']\n",
            "HeatingQC      ['Ex' 'Gd' 'TA' 'Fa' 'Po']\n",
            "CentralAir     ['Y' 'N']\n",
            "Electrical     ['SBrkr' 'FuseF' 'FuseA' 'FuseP' 'Mix' nan]\n",
            "KitchenQual    ['Gd' 'TA' 'Ex' 'Fa']\n",
            "Functional     ['Typ' 'Min1' 'Maj1' 'Min2' 'Mod' 'Maj2' 'Sev']\n",
            "FireplaceQu    [nan 'TA' 'Gd' 'Fa' 'Ex' 'Po']\n",
            "GarageType     ['Attchd' 'Detchd' 'BuiltIn' 'CarPort' nan 'Basment' '2Types']\n",
            "GarageFinish   ['RFn' 'Unf' 'Fin' nan]\n",
            "GarageQual     ['TA' 'Fa' 'Gd' nan 'Ex' 'Po']\n",
            "GarageCond     ['TA' 'Fa' nan 'Gd' 'Po' 'Ex']\n",
            "PavedDrive     ['Y' 'N' 'P']\n",
            "PoolQC         [nan 'Ex' 'Fa' 'Gd']\n",
            "Fence          [nan 'MnPrv' 'GdWo' 'GdPrv' 'MnWw']\n",
            "MiscFeature    [nan 'Shed' 'Gar2' 'Othr' 'TenC']\n",
            "SaleType       ['WD' 'New' 'COD' 'ConLD' 'ConLI' 'CWD' 'ConLw' 'Con' 'Oth']\n",
            "SaleCondition  ['Normal' 'Abnorml' 'Partial' 'AdjLand' 'Alloca' 'Family']\n"
          ],
          "name": "stdout"
        }
      ]
    },
    {
      "cell_type": "markdown",
      "metadata": {
        "id": "H-077tjMtODi",
        "colab_type": "text"
      },
      "source": [
        "**LABEL-ENCODING**"
      ]
    },
    {
      "cell_type": "code",
      "metadata": {
        "id": "QlOYOhSdqftn",
        "colab_type": "code",
        "colab": {}
      },
      "source": [
        "from sklearn.preprocessing import LabelEncoder\n",
        "for c in categoricals.columns:\n",
        "  lb=LabelEncoder()\n",
        "  lb.fit(list(train[c].values))\n",
        "  train[c]=lb.transform(list(train[c].values))\n",
        "  \n",
        "  lb.fit(list(test[c].values))\n",
        "  test[c]=lb.transform(list(test[c].values))"
      ],
      "execution_count": 25,
      "outputs": []
    },
    {
      "cell_type": "markdown",
      "metadata": {
        "id": "j6a7E4iYvGPO",
        "colab_type": "text"
      },
      "source": [
        "**OUTLIERS**"
      ]
    },
    {
      "cell_type": "code",
      "metadata": {
        "id": "IDFmwIxNvFzI",
        "colab_type": "code",
        "colab": {
          "base_uri": "https://localhost:8080/",
          "height": 475
        },
        "outputId": "d7c3cc7f-6100-4adf-bb0e-809878d436dd"
      },
      "source": [
        "fig , axes=plt.subplots(ncols=5, nrows=2 ,figsize=(16,8))\n",
        "axes=np.ravel(axes)\n",
        "col_names=['GrLivArea','TotalBsmtSF','1stFlrSF','BsmtFinSF1','LotArea']\n",
        "\n",
        "for i,c in zip(range(5),col_names):\n",
        "  train.plot.scatter(ax=axes[i],x=c,y='SalePrice',sharey=True,colorbar=False,c='r')\n",
        "\n",
        "#delete outliers\n",
        "print(train.shape)\n",
        "train = train[train['GrLivArea']< 4500]\n",
        "train = train[train['LotArea']< 100000]\n",
        "train = train[train['TotalBsmtSF']< 3000]\n",
        "train = train[train['1stFlrSF']< 2500]\n",
        "train = train[train['BsmtFinSF1']< 2000]\n",
        "\n",
        "print(train.shape)\n",
        "\n",
        "for i,c in zip(range(5,10),col_names):\n",
        "  train.plot.scatter(ax=axes[i],x=c,y='SalePrice',sharey=True,colorbar=False,c='b')\n"
      ],
      "execution_count": 31,
      "outputs": [
        {
          "output_type": "stream",
          "text": [
            "(1445, 81)\n",
            "(1445, 81)\n"
          ],
          "name": "stdout"
        },
        {
          "output_type": "display_data",
          "data": {
            "image/png": "[encoded data removed]",
            "text/plain": [
              "<Figure size 1152x576 with 10 Axes>"
            ]
          },
          "metadata": {
            "tags": [],
            "needs_background": "light"
          }
        }
      ]
    },
    {
      "cell_type": "code",
      "metadata": {
        "id": "eCrN0ylrvAvb",
        "colab_type": "code",
        "colab": {}
      },
      "source": [
        "#Deleting dominating features over 97%"
      ],
      "execution_count": 32,
      "outputs": []
    },
    {
      "cell_type": "code",
      "metadata": {
        "id": "-XFMqXUhymhv",
        "colab_type": "code",
        "colab": {}
      },
      "source": [
        "train=train.drop(columns=['Street','Utilities','Condition2','RoofMatl','Heating','PoolQC'])\n",
        "test=test.drop(columns=['Street','Utilities','Condition2','RoofMatl','Heating','PoolQC'])"
      ],
      "execution_count": 34,
      "outputs": []
    },
    {
      "cell_type": "markdown",
      "metadata": {
        "id": "mqxD9ZAsza4I",
        "colab_type": "text"
      },
      "source": [
        "**MISSING DATA**"
      ]
    },
    {
      "cell_type": "code",
      "metadata": {
        "id": "HPuNutkMzaEt",
        "colab_type": "code",
        "colab": {}
      },
      "source": [
        "##Removing Missing Columns-->We'll remove any columns with more than 70%  missing values in either the traning or test set\n",
        "train=train.select_dtypes(include=[np.number])\n",
        "\n",
        "train=train.dropna(thresh=0.70*len(train),axis=1)\n",
        "test=test.dropna(thresh=0.70*len(test),axis=1)"
      ],
      "execution_count": 37,
      "outputs": []
    },
    {
      "cell_type": "code",
      "metadata": {
        "id": "ONvEppgKy39V",
        "colab_type": "code",
        "colab": {}
      },
      "source": [
        "train=train.fillna(train.mean())\n",
        "test=test.fillna(test.mean())"
      ],
      "execution_count": 39,
      "outputs": []
    },
    {
      "cell_type": "code",
      "metadata": {
        "id": "GGjaRygo0So4",
        "colab_type": "code",
        "colab": {
          "base_uri": "https://localhost:8080/",
          "height": 34
        },
        "outputId": "1dcb4fdd-e511-4e88-eabc-b6d499ea1875"
      },
      "source": [
        "train.shape"
      ],
      "execution_count": 43,
      "outputs": [
        {
          "output_type": "execute_result",
          "data": {
            "text/plain": [
              "(1445, 75)"
            ]
          },
          "metadata": {
            "tags": []
          },
          "execution_count": 43
        }
      ]
    },
    {
      "cell_type": "code",
      "metadata": {
        "id": "YXaoG6Sb1-Ae",
        "colab_type": "code",
        "colab": {
          "base_uri": "https://localhost:8080/",
          "height": 187
        },
        "outputId": "6ce7a394-f19b-4d7e-817c-35e751ce9241"
      },
      "source": [
        "train.head(4)"
      ],
      "execution_count": 47,
      "outputs": [
        {
          "output_type": "execute_result",
          "data": {
            "text/html": [
              "<div>\n",
              "<style scoped>\n",
              "    .dataframe tbody tr th:only-of-type {\n",
              "        vertical-align: middle;\n",
              "    }\n",
              "\n",
              "    .dataframe tbody tr th {\n",
              "        vertical-align: top;\n",
              "    }\n",
              "\n",
              "    .dataframe thead th {\n",
              "        text-align: right;\n",
              "    }\n",
              "</style>\n",
              "<table border=\"1\" class=\"dataframe\">\n",
              "  <thead>\n",
              "    <tr style=\"text-align: right;\">\n",
              "      <th></th>\n",
              "      <th>Id</th>\n",
              "      <th>MSSubClass</th>\n",
              "      <th>MSZoning</th>\n",
              "      <th>LotFrontage</th>\n",
              "      <th>LotArea</th>\n",
              "      <th>Alley</th>\n",
              "      <th>LotShape</th>\n",
              "      <th>LandContour</th>\n",
              "      <th>LotConfig</th>\n",
              "      <th>LandSlope</th>\n",
              "      <th>Neighborhood</th>\n",
              "      <th>Condition1</th>\n",
              "      <th>BldgType</th>\n",
              "      <th>HouseStyle</th>\n",
              "      <th>OverallQual</th>\n",
              "      <th>OverallCond</th>\n",
              "      <th>YearBuilt</th>\n",
              "      <th>YearRemodAdd</th>\n",
              "      <th>RoofStyle</th>\n",
              "      <th>Exterior1st</th>\n",
              "      <th>Exterior2nd</th>\n",
              "      <th>MasVnrType</th>\n",
              "      <th>MasVnrArea</th>\n",
              "      <th>ExterQual</th>\n",
              "      <th>ExterCond</th>\n",
              "      <th>Foundation</th>\n",
              "      <th>BsmtQual</th>\n",
              "      <th>BsmtCond</th>\n",
              "      <th>BsmtExposure</th>\n",
              "      <th>BsmtFinType1</th>\n",
              "      <th>BsmtFinSF1</th>\n",
              "      <th>BsmtFinType2</th>\n",
              "      <th>BsmtFinSF2</th>\n",
              "      <th>BsmtUnfSF</th>\n",
              "      <th>TotalBsmtSF</th>\n",
              "      <th>HeatingQC</th>\n",
              "      <th>CentralAir</th>\n",
              "      <th>Electrical</th>\n",
              "      <th>1stFlrSF</th>\n",
              "      <th>2ndFlrSF</th>\n",
              "      <th>LowQualFinSF</th>\n",
              "      <th>GrLivArea</th>\n",
              "      <th>BsmtFullBath</th>\n",
              "      <th>BsmtHalfBath</th>\n",
              "      <th>FullBath</th>\n",
              "      <th>HalfBath</th>\n",
              "      <th>BedroomAbvGr</th>\n",
              "      <th>KitchenAbvGr</th>\n",
              "      <th>KitchenQual</th>\n",
              "      <th>TotRmsAbvGrd</th>\n",
              "      <th>Functional</th>\n",
              "      <th>Fireplaces</th>\n",
              "      <th>FireplaceQu</th>\n",
              "      <th>GarageType</th>\n",
              "      <th>GarageYrBlt</th>\n",
              "      <th>GarageFinish</th>\n",
              "      <th>GarageCars</th>\n",
              "      <th>GarageArea</th>\n",
              "      <th>GarageQual</th>\n",
              "      <th>GarageCond</th>\n",
              "      <th>PavedDrive</th>\n",
              "      <th>WoodDeckSF</th>\n",
              "      <th>OpenPorchSF</th>\n",
              "      <th>EnclosedPorch</th>\n",
              "      <th>3SsnPorch</th>\n",
              "      <th>ScreenPorch</th>\n",
              "      <th>PoolArea</th>\n",
              "      <th>Fence</th>\n",
              "      <th>MiscFeature</th>\n",
              "      <th>MiscVal</th>\n",
              "      <th>MoSold</th>\n",
              "      <th>YrSold</th>\n",
              "      <th>SaleType</th>\n",
              "      <th>SaleCondition</th>\n",
              "      <th>SalePrice</th>\n",
              "    </tr>\n",
              "  </thead>\n",
              "  <tbody>\n",
              "    <tr>\n",
              "      <th>0</th>\n",
              "      <td>1</td>\n",
              "      <td>60</td>\n",
              "      <td>3</td>\n",
              "      <td>65.0</td>\n",
              "      <td>8450</td>\n",
              "      <td>2</td>\n",
              "      <td>3</td>\n",
              "      <td>3</td>\n",
              "      <td>4</td>\n",
              "      <td>0</td>\n",
              "      <td>5</td>\n",
              "      <td>2</td>\n",
              "      <td>0</td>\n",
              "      <td>5</td>\n",
              "      <td>7</td>\n",
              "      <td>5</td>\n",
              "      <td>2003</td>\n",
              "      <td>2003</td>\n",
              "      <td>1</td>\n",
              "      <td>12</td>\n",
              "      <td>13</td>\n",
              "      <td>1</td>\n",
              "      <td>196.0</td>\n",
              "      <td>2</td>\n",
              "      <td>4</td>\n",
              "      <td>2</td>\n",
              "      <td>2</td>\n",
              "      <td>3</td>\n",
              "      <td>3</td>\n",
              "      <td>2</td>\n",
              "      <td>706</td>\n",
              "      <td>5</td>\n",
              "      <td>0</td>\n",
              "      <td>150</td>\n",
              "      <td>856</td>\n",
              "      <td>0</td>\n",
              "      <td>1</td>\n",
              "      <td>4</td>\n",
              "      <td>856</td>\n",
              "      <td>854</td>\n",
              "      <td>0</td>\n",
              "      <td>1710</td>\n",
              "      <td>1</td>\n",
              "      <td>0</td>\n",
              "      <td>2</td>\n",
              "      <td>1</td>\n",
              "      <td>3</td>\n",
              "      <td>1</td>\n",
              "      <td>2</td>\n",
              "      <td>8</td>\n",
              "      <td>6</td>\n",
              "      <td>0</td>\n",
              "      <td>5</td>\n",
              "      <td>1</td>\n",
              "      <td>2003.0</td>\n",
              "      <td>1</td>\n",
              "      <td>2</td>\n",
              "      <td>548</td>\n",
              "      <td>4</td>\n",
              "      <td>4</td>\n",
              "      <td>2</td>\n",
              "      <td>0</td>\n",
              "      <td>61</td>\n",
              "      <td>0</td>\n",
              "      <td>0</td>\n",
              "      <td>0</td>\n",
              "      <td>0</td>\n",
              "      <td>4</td>\n",
              "      <td>4</td>\n",
              "      <td>0</td>\n",
              "      <td>2</td>\n",
              "      <td>2008</td>\n",
              "      <td>8</td>\n",
              "      <td>4</td>\n",
              "      <td>208500</td>\n",
              "    </tr>\n",
              "    <tr>\n",
              "      <th>1</th>\n",
              "      <td>2</td>\n",
              "      <td>20</td>\n",
              "      <td>3</td>\n",
              "      <td>80.0</td>\n",
              "      <td>9600</td>\n",
              "      <td>2</td>\n",
              "      <td>3</td>\n",
              "      <td>3</td>\n",
              "      <td>2</td>\n",
              "      <td>0</td>\n",
              "      <td>24</td>\n",
              "      <td>1</td>\n",
              "      <td>0</td>\n",
              "      <td>2</td>\n",
              "      <td>6</td>\n",
              "      <td>8</td>\n",
              "      <td>1976</td>\n",
              "      <td>1976</td>\n",
              "      <td>1</td>\n",
              "      <td>8</td>\n",
              "      <td>8</td>\n",
              "      <td>2</td>\n",
              "      <td>0.0</td>\n",
              "      <td>3</td>\n",
              "      <td>4</td>\n",
              "      <td>1</td>\n",
              "      <td>2</td>\n",
              "      <td>3</td>\n",
              "      <td>1</td>\n",
              "      <td>0</td>\n",
              "      <td>978</td>\n",
              "      <td>5</td>\n",
              "      <td>0</td>\n",
              "      <td>284</td>\n",
              "      <td>1262</td>\n",
              "      <td>0</td>\n",
              "      <td>1</td>\n",
              "      <td>4</td>\n",
              "      <td>1262</td>\n",
              "      <td>0</td>\n",
              "      <td>0</td>\n",
              "      <td>1262</td>\n",
              "      <td>0</td>\n",
              "      <td>1</td>\n",
              "      <td>2</td>\n",
              "      <td>0</td>\n",
              "      <td>3</td>\n",
              "      <td>1</td>\n",
              "      <td>3</td>\n",
              "      <td>6</td>\n",
              "      <td>6</td>\n",
              "      <td>1</td>\n",
              "      <td>4</td>\n",
              "      <td>1</td>\n",
              "      <td>1976.0</td>\n",
              "      <td>1</td>\n",
              "      <td>2</td>\n",
              "      <td>460</td>\n",
              "      <td>4</td>\n",
              "      <td>4</td>\n",
              "      <td>2</td>\n",
              "      <td>298</td>\n",
              "      <td>0</td>\n",
              "      <td>0</td>\n",
              "      <td>0</td>\n",
              "      <td>0</td>\n",
              "      <td>0</td>\n",
              "      <td>4</td>\n",
              "      <td>4</td>\n",
              "      <td>0</td>\n",
              "      <td>5</td>\n",
              "      <td>2007</td>\n",
              "      <td>8</td>\n",
              "      <td>4</td>\n",
              "      <td>181500</td>\n",
              "    </tr>\n",
              "    <tr>\n",
              "      <th>2</th>\n",
              "      <td>3</td>\n",
              "      <td>60</td>\n",
              "      <td>3</td>\n",
              "      <td>68.0</td>\n",
              "      <td>11250</td>\n",
              "      <td>2</td>\n",
              "      <td>0</td>\n",
              "      <td>3</td>\n",
              "      <td>4</td>\n",
              "      <td>0</td>\n",
              "      <td>5</td>\n",
              "      <td>2</td>\n",
              "      <td>0</td>\n",
              "      <td>5</td>\n",
              "      <td>7</td>\n",
              "      <td>5</td>\n",
              "      <td>2001</td>\n",
              "      <td>2002</td>\n",
              "      <td>1</td>\n",
              "      <td>12</td>\n",
              "      <td>13</td>\n",
              "      <td>1</td>\n",
              "      <td>162.0</td>\n",
              "      <td>2</td>\n",
              "      <td>4</td>\n",
              "      <td>2</td>\n",
              "      <td>2</td>\n",
              "      <td>3</td>\n",
              "      <td>2</td>\n",
              "      <td>2</td>\n",
              "      <td>486</td>\n",
              "      <td>5</td>\n",
              "      <td>0</td>\n",
              "      <td>434</td>\n",
              "      <td>920</td>\n",
              "      <td>0</td>\n",
              "      <td>1</td>\n",
              "      <td>4</td>\n",
              "      <td>920</td>\n",
              "      <td>866</td>\n",
              "      <td>0</td>\n",
              "      <td>1786</td>\n",
              "      <td>1</td>\n",
              "      <td>0</td>\n",
              "      <td>2</td>\n",
              "      <td>1</td>\n",
              "      <td>3</td>\n",
              "      <td>1</td>\n",
              "      <td>2</td>\n",
              "      <td>6</td>\n",
              "      <td>6</td>\n",
              "      <td>1</td>\n",
              "      <td>4</td>\n",
              "      <td>1</td>\n",
              "      <td>2001.0</td>\n",
              "      <td>1</td>\n",
              "      <td>2</td>\n",
              "      <td>608</td>\n",
              "      <td>4</td>\n",
              "      <td>4</td>\n",
              "      <td>2</td>\n",
              "      <td>0</td>\n",
              "      <td>42</td>\n",
              "      <td>0</td>\n",
              "      <td>0</td>\n",
              "      <td>0</td>\n",
              "      <td>0</td>\n",
              "      <td>4</td>\n",
              "      <td>4</td>\n",
              "      <td>0</td>\n",
              "      <td>9</td>\n",
              "      <td>2008</td>\n",
              "      <td>8</td>\n",
              "      <td>4</td>\n",
              "      <td>223500</td>\n",
              "    </tr>\n",
              "    <tr>\n",
              "      <th>3</th>\n",
              "      <td>4</td>\n",
              "      <td>70</td>\n",
              "      <td>3</td>\n",
              "      <td>60.0</td>\n",
              "      <td>9550</td>\n",
              "      <td>2</td>\n",
              "      <td>0</td>\n",
              "      <td>3</td>\n",
              "      <td>0</td>\n",
              "      <td>0</td>\n",
              "      <td>6</td>\n",
              "      <td>2</td>\n",
              "      <td>0</td>\n",
              "      <td>5</td>\n",
              "      <td>7</td>\n",
              "      <td>5</td>\n",
              "      <td>1915</td>\n",
              "      <td>1970</td>\n",
              "      <td>1</td>\n",
              "      <td>13</td>\n",
              "      <td>15</td>\n",
              "      <td>2</td>\n",
              "      <td>0.0</td>\n",
              "      <td>3</td>\n",
              "      <td>4</td>\n",
              "      <td>0</td>\n",
              "      <td>3</td>\n",
              "      <td>1</td>\n",
              "      <td>3</td>\n",
              "      <td>0</td>\n",
              "      <td>216</td>\n",
              "      <td>5</td>\n",
              "      <td>0</td>\n",
              "      <td>540</td>\n",
              "      <td>756</td>\n",
              "      <td>2</td>\n",
              "      <td>1</td>\n",
              "      <td>4</td>\n",
              "      <td>961</td>\n",
              "      <td>756</td>\n",
              "      <td>0</td>\n",
              "      <td>1717</td>\n",
              "      <td>1</td>\n",
              "      <td>0</td>\n",
              "      <td>1</td>\n",
              "      <td>0</td>\n",
              "      <td>3</td>\n",
              "      <td>1</td>\n",
              "      <td>2</td>\n",
              "      <td>7</td>\n",
              "      <td>6</td>\n",
              "      <td>1</td>\n",
              "      <td>2</td>\n",
              "      <td>5</td>\n",
              "      <td>1998.0</td>\n",
              "      <td>2</td>\n",
              "      <td>3</td>\n",
              "      <td>642</td>\n",
              "      <td>4</td>\n",
              "      <td>4</td>\n",
              "      <td>2</td>\n",
              "      <td>0</td>\n",
              "      <td>35</td>\n",
              "      <td>272</td>\n",
              "      <td>0</td>\n",
              "      <td>0</td>\n",
              "      <td>0</td>\n",
              "      <td>4</td>\n",
              "      <td>4</td>\n",
              "      <td>0</td>\n",
              "      <td>2</td>\n",
              "      <td>2006</td>\n",
              "      <td>8</td>\n",
              "      <td>0</td>\n",
              "      <td>140000</td>\n",
              "    </tr>\n",
              "  </tbody>\n",
              "</table>\n",
              "</div>"
            ],
            "text/plain": [
              "   Id  MSSubClass  MSZoning  ...  SaleType  SaleCondition  SalePrice\n",
              "0   1          60         3  ...         8              4     208500\n",
              "1   2          20         3  ...         8              4     181500\n",
              "2   3          60         3  ...         8              4     223500\n",
              "3   4          70         3  ...         8              0     140000\n",
              "\n",
              "[4 rows x 75 columns]"
            ]
          },
          "metadata": {
            "tags": []
          },
          "execution_count": 47
        }
      ]
    },
    {
      "cell_type": "code",
      "metadata": {
        "id": "F5bzdZDS1PcC",
        "colab_type": "code",
        "colab": {}
      },
      "source": [
        "y=np.log(train.SalePrice)\n",
        "X=train.drop(['SalePrice','Id'],axis=1)"
      ],
      "execution_count": 48,
      "outputs": []
    },
    {
      "cell_type": "markdown",
      "metadata": {
        "id": "a77K2gZ12NTK",
        "colab_type": "text"
      },
      "source": [
        "**REMOVE COLLINEAR VARIABLES**\n",
        "* These are variables that are highly correlated with one another."
      ]
    },
    {
      "cell_type": "code",
      "metadata": {
        "id": "wiDZW3Yi1k7U",
        "colab_type": "code",
        "colab": {}
      },
      "source": [
        "##Threshold for removing correlated variables\n",
        "threshold= 0.8\n",
        "\n",
        "#Absolute value correlation matrix\n",
        "corr_matrix=X.corr().abs()\n",
        "\n",
        "#Upper triangle of correlations\n",
        "upper=corr_matrix.where(np.triu(np.ones(corr_matrix.shape),k=1).astype(np.bool))\n",
        "\n",
        "#Select columns with correlations above threshold\n",
        "to_drop=[column for column in upper.columns if any(upper[column]>threshold)]\n",
        "\n",
        "X=X.drop(columns=to_drop)\n",
        "\n"
      ],
      "execution_count": 53,
      "outputs": []
    },
    {
      "cell_type": "code",
      "metadata": {
        "id": "bXP9zJL82pbi",
        "colab_type": "code",
        "colab": {
          "base_uri": "https://localhost:8080/",
          "height": 52
        },
        "outputId": "0ab29a8a-be90-4242-ff89-af25cb969a37"
      },
      "source": [
        "print(X.shape)\n",
        "print(y.shape)"
      ],
      "execution_count": 54,
      "outputs": [
        {
          "output_type": "stream",
          "text": [
            "(1445, 70)\n",
            "(1445,)\n"
          ],
          "name": "stdout"
        }
      ]
    },
    {
      "cell_type": "code",
      "metadata": {
        "id": "ulT5OdqQ2r1f",
        "colab_type": "code",
        "colab": {
          "base_uri": "https://localhost:8080/",
          "height": 1000
        },
        "outputId": "8d7307eb-a0ca-444a-8a33-bfdcf5cd449e"
      },
      "source": [
        "from lightgbm import LGBMRegressor\n",
        "from sklearn.model_selection import train_test_split\n",
        "\n",
        "def identify_zero_importance_features(X,y,iterations=2):\n",
        "      \"\"\"\n",
        "        Identify zero importance features in a training dataset based on the feature importances from a gradient boosting model.\n",
        "\n",
        "        Parameters\n",
        "        ----------\n",
        "        train: dataframe\n",
        "            Training Features\n",
        "\n",
        "        train_labels:np.array\n",
        "            labels for training data\n",
        "\n",
        "        iterations: integer,default=2\n",
        "            Number of cross validation splits to use to determine feature importances\n",
        "      \"\"\"\n",
        "      #Initialize an empty array to hold feature_importance\n",
        "      feature_importances=np.zeros(X.shape[1])\n",
        "\n",
        "      #Create the model with several hyperparameters\n",
        "      model=LGBMRegressor(objective='regression',\n",
        "                            num_leaves=4,\n",
        "                            learning_rate=0.05,\n",
        "                            max_bin=75,\n",
        "                            bagging_fraction=0.8,\n",
        "                            bagging_freq=9,\n",
        "                            feature_fraction=0.45,\n",
        "                            feature_fraction_seed=9,\n",
        "                            bagging_seed=12,\n",
        "                            min_data_in_leaf=3,\n",
        "                            min_sum_hessian_in_leaf=2)\n",
        "        \n",
        "\n",
        "      #Fit the model multiple times to avoid overfitting\n",
        "      for i in range(iterations):\n",
        "          #Split into training and validation set\n",
        "          train_features,valid_features,train_y,valid_y=train_test_split(X,y,test_size=0.25,random_state=1)\n",
        "\n",
        "          #Train using early stopping\n",
        "          model.fit(train_features,train_y,early_stopping_rounds=100,eval_set=[(valid_features,valid_y)])\n",
        "\n",
        "          #Record the feature importances\n",
        "          feature_importances+=model.feature_importances_/iterations\n",
        "\n",
        "      feature_importances=pd.DataFrame({'feature':list(X.columns),'importance':feature_importances}).sort_values(by='importance',ascending=False)\n",
        "\n",
        "      #Find the features with zero importance\n",
        "      zero_features=list(feature_importances[feature_importances['importance']== 0.0]['feature'])\n",
        "      print('\\n There are %d features with 0.0 importance' %len(zero_features))\n",
        "\n",
        "      return zero_features,feature_importances\n",
        "\n",
        "zero_features, feature_importances= identify_zero_importance_features(X,y,iterations=2)\n",
        "print('zero_features',zero_features)\n",
        "print('feature_importances:', feature_importances)\n"
      ],
      "execution_count": 72,
      "outputs": [
        {
          "output_type": "stream",
          "text": [
            "[1]\tvalid_0's l2: 0.143814\n",
            "Training until validation scores don't improve for 100 rounds.\n",
            "[2]\tvalid_0's l2: 0.135978\n",
            "[3]\tvalid_0's l2: 0.127584\n",
            "[4]\tvalid_0's l2: 0.120289\n",
            "[5]\tvalid_0's l2: 0.113978\n",
            "[6]\tvalid_0's l2: 0.108239\n",
            "[7]\tvalid_0's l2: 0.10328\n",
            "[8]\tvalid_0's l2: 0.0978202\n",
            "[9]\tvalid_0's l2: 0.0930189\n",
            "[10]\tvalid_0's l2: 0.0887263\n",
            "[11]\tvalid_0's l2: 0.0842317\n",
            "[12]\tvalid_0's l2: 0.0800752\n",
            "[13]\tvalid_0's l2: 0.0763197\n",
            "[14]\tvalid_0's l2: 0.0733612\n",
            "[15]\tvalid_0's l2: 0.0702206\n",
            "[16]\tvalid_0's l2: 0.0670891\n",
            "[17]\tvalid_0's l2: 0.0642017\n",
            "[18]\tvalid_0's l2: 0.0617393\n",
            "[19]\tvalid_0's l2: 0.059314\n",
            "[20]\tvalid_0's l2: 0.0571374\n",
            "[21]\tvalid_0's l2: 0.0552766\n",
            "[22]\tvalid_0's l2: 0.0534611\n",
            "[23]\tvalid_0's l2: 0.0515064\n",
            "[24]\tvalid_0's l2: 0.0499081\n",
            "[25]\tvalid_0's l2: 0.0481363\n",
            "[26]\tvalid_0's l2: 0.0466977\n",
            "[27]\tvalid_0's l2: 0.0451315\n",
            "[28]\tvalid_0's l2: 0.0436771\n",
            "[29]\tvalid_0's l2: 0.0422671\n",
            "[30]\tvalid_0's l2: 0.0410747\n",
            "[31]\tvalid_0's l2: 0.0399488\n",
            "[32]\tvalid_0's l2: 0.0387442\n",
            "[33]\tvalid_0's l2: 0.037724\n",
            "[34]\tvalid_0's l2: 0.0367827\n",
            "[35]\tvalid_0's l2: 0.0358327\n",
            "[36]\tvalid_0's l2: 0.0349024\n",
            "[37]\tvalid_0's l2: 0.0341615\n",
            "[38]\tvalid_0's l2: 0.0334041\n",
            "[39]\tvalid_0's l2: 0.0325705\n",
            "[40]\tvalid_0's l2: 0.0317997\n",
            "[41]\tvalid_0's l2: 0.031053\n",
            "[42]\tvalid_0's l2: 0.030293\n",
            "[43]\tvalid_0's l2: 0.0297484\n",
            "[44]\tvalid_0's l2: 0.0291566\n",
            "[45]\tvalid_0's l2: 0.0285011\n",
            "[46]\tvalid_0's l2: 0.0279499\n",
            "[47]\tvalid_0's l2: 0.0274044\n",
            "[48]\tvalid_0's l2: 0.0268873\n",
            "[49]\tvalid_0's l2: 0.0264283\n",
            "[50]\tvalid_0's l2: 0.025931\n",
            "[51]\tvalid_0's l2: 0.0255523\n",
            "[52]\tvalid_0's l2: 0.0251012\n",
            "[53]\tvalid_0's l2: 0.0247504\n",
            "[54]\tvalid_0's l2: 0.0243434\n",
            "[55]\tvalid_0's l2: 0.0239\n",
            "[56]\tvalid_0's l2: 0.0234815\n",
            "[57]\tvalid_0's l2: 0.0231721\n",
            "[58]\tvalid_0's l2: 0.0228146\n",
            "[59]\tvalid_0's l2: 0.0224824\n",
            "[60]\tvalid_0's l2: 0.0222624\n",
            "[61]\tvalid_0's l2: 0.021931\n",
            "[62]\tvalid_0's l2: 0.0216079\n",
            "[63]\tvalid_0's l2: 0.0213689\n",
            "[64]\tvalid_0's l2: 0.0211847\n",
            "[65]\tvalid_0's l2: 0.020939\n",
            "[66]\tvalid_0's l2: 0.0207312\n",
            "[67]\tvalid_0's l2: 0.0204856\n",
            "[68]\tvalid_0's l2: 0.0202496\n",
            "[69]\tvalid_0's l2: 0.0200195\n",
            "[70]\tvalid_0's l2: 0.0197719\n",
            "[71]\tvalid_0's l2: 0.0196146\n",
            "[72]\tvalid_0's l2: 0.0194189\n",
            "[73]\tvalid_0's l2: 0.0191201\n",
            "[74]\tvalid_0's l2: 0.0189969\n",
            "[75]\tvalid_0's l2: 0.0188174\n",
            "[76]\tvalid_0's l2: 0.0185852\n",
            "[77]\tvalid_0's l2: 0.0184113\n",
            "[78]\tvalid_0's l2: 0.0182085\n",
            "[79]\tvalid_0's l2: 0.0179798\n",
            "[80]\tvalid_0's l2: 0.0178078\n",
            "[81]\tvalid_0's l2: 0.0177297\n",
            "[82]\tvalid_0's l2: 0.0176087\n",
            "[83]\tvalid_0's l2: 0.0174926\n",
            "[84]\tvalid_0's l2: 0.0173767\n",
            "[85]\tvalid_0's l2: 0.0172759\n",
            "[86]\tvalid_0's l2: 0.0172034\n",
            "[87]\tvalid_0's l2: 0.0171295\n",
            "[88]\tvalid_0's l2: 0.0169917\n",
            "[89]\tvalid_0's l2: 0.0168939\n",
            "[90]\tvalid_0's l2: 0.0167769\n",
            "[91]\tvalid_0's l2: 0.0166568\n",
            "[92]\tvalid_0's l2: 0.0166305\n",
            "[93]\tvalid_0's l2: 0.0165313\n",
            "[94]\tvalid_0's l2: 0.0164543\n",
            "[95]\tvalid_0's l2: 0.016382\n",
            "[96]\tvalid_0's l2: 0.0162751\n",
            "[97]\tvalid_0's l2: 0.0161679\n",
            "[98]\tvalid_0's l2: 0.0160751\n",
            "[99]\tvalid_0's l2: 0.0159883\n",
            "[100]\tvalid_0's l2: 0.0159023\n",
            "Did not meet early stopping. Best iteration is:\n",
            "[100]\tvalid_0's l2: 0.0159023\n",
            "[1]\tvalid_0's l2: 0.143814\n",
            "Training until validation scores don't improve for 100 rounds.\n",
            "[2]\tvalid_0's l2: 0.135978\n",
            "[3]\tvalid_0's l2: 0.127584\n",
            "[4]\tvalid_0's l2: 0.120289\n",
            "[5]\tvalid_0's l2: 0.113978\n",
            "[6]\tvalid_0's l2: 0.108239\n",
            "[7]\tvalid_0's l2: 0.10328\n",
            "[8]\tvalid_0's l2: 0.0978202\n",
            "[9]\tvalid_0's l2: 0.0930189\n",
            "[10]\tvalid_0's l2: 0.0887263\n",
            "[11]\tvalid_0's l2: 0.0842317\n",
            "[12]\tvalid_0's l2: 0.0800752\n",
            "[13]\tvalid_0's l2: 0.0763197\n",
            "[14]\tvalid_0's l2: 0.0733612\n",
            "[15]\tvalid_0's l2: 0.0702206\n",
            "[16]\tvalid_0's l2: 0.0670891\n",
            "[17]\tvalid_0's l2: 0.0642017\n",
            "[18]\tvalid_0's l2: 0.0617393\n",
            "[19]\tvalid_0's l2: 0.059314\n",
            "[20]\tvalid_0's l2: 0.0571374\n",
            "[21]\tvalid_0's l2: 0.0552766\n",
            "[22]\tvalid_0's l2: 0.0534611\n",
            "[23]\tvalid_0's l2: 0.0515064\n",
            "[24]\tvalid_0's l2: 0.0499081\n",
            "[25]\tvalid_0's l2: 0.0481363\n",
            "[26]\tvalid_0's l2: 0.0466977\n",
            "[27]\tvalid_0's l2: 0.0451315\n",
            "[28]\tvalid_0's l2: 0.0436771\n",
            "[29]\tvalid_0's l2: 0.0422671\n",
            "[30]\tvalid_0's l2: 0.0410747\n",
            "[31]\tvalid_0's l2: 0.0399488\n",
            "[32]\tvalid_0's l2: 0.0387442\n",
            "[33]\tvalid_0's l2: 0.037724\n",
            "[34]\tvalid_0's l2: 0.0367827\n",
            "[35]\tvalid_0's l2: 0.0358327\n",
            "[36]\tvalid_0's l2: 0.0349024\n",
            "[37]\tvalid_0's l2: 0.0341615\n",
            "[38]\tvalid_0's l2: 0.0334041\n",
            "[39]\tvalid_0's l2: 0.0325705\n",
            "[40]\tvalid_0's l2: 0.0317997\n",
            "[41]\tvalid_0's l2: 0.031053\n",
            "[42]\tvalid_0's l2: 0.030293\n",
            "[43]\tvalid_0's l2: 0.0297484\n",
            "[44]\tvalid_0's l2: 0.0291566\n",
            "[45]\tvalid_0's l2: 0.0285011\n",
            "[46]\tvalid_0's l2: 0.0279499\n",
            "[47]\tvalid_0's l2: 0.0274044\n",
            "[48]\tvalid_0's l2: 0.0268873\n",
            "[49]\tvalid_0's l2: 0.0264283\n",
            "[50]\tvalid_0's l2: 0.025931\n",
            "[51]\tvalid_0's l2: 0.0255523\n",
            "[52]\tvalid_0's l2: 0.0251012\n",
            "[53]\tvalid_0's l2: 0.0247504\n",
            "[54]\tvalid_0's l2: 0.0243434\n",
            "[55]\tvalid_0's l2: 0.0239\n",
            "[56]\tvalid_0's l2: 0.0234815\n",
            "[57]\tvalid_0's l2: 0.0231721\n",
            "[58]\tvalid_0's l2: 0.0228146\n",
            "[59]\tvalid_0's l2: 0.0224824\n",
            "[60]\tvalid_0's l2: 0.0222624\n",
            "[61]\tvalid_0's l2: 0.021931\n",
            "[62]\tvalid_0's l2: 0.0216079\n",
            "[63]\tvalid_0's l2: 0.0213689\n",
            "[64]\tvalid_0's l2: 0.0211847\n",
            "[65]\tvalid_0's l2: 0.020939\n",
            "[66]\tvalid_0's l2: 0.0207312\n",
            "[67]\tvalid_0's l2: 0.0204856\n",
            "[68]\tvalid_0's l2: 0.0202496\n",
            "[69]\tvalid_0's l2: 0.0200195\n",
            "[70]\tvalid_0's l2: 0.0197719\n",
            "[71]\tvalid_0's l2: 0.0196146\n",
            "[72]\tvalid_0's l2: 0.0194189\n",
            "[73]\tvalid_0's l2: 0.0191201\n",
            "[74]\tvalid_0's l2: 0.0189969\n",
            "[75]\tvalid_0's l2: 0.0188174\n",
            "[76]\tvalid_0's l2: 0.0185852\n",
            "[77]\tvalid_0's l2: 0.0184113\n",
            "[78]\tvalid_0's l2: 0.0182085\n",
            "[79]\tvalid_0's l2: 0.0179798\n",
            "[80]\tvalid_0's l2: 0.0178078\n",
            "[81]\tvalid_0's l2: 0.0177297\n",
            "[82]\tvalid_0's l2: 0.0176087\n",
            "[83]\tvalid_0's l2: 0.0174926\n",
            "[84]\tvalid_0's l2: 0.0173767\n",
            "[85]\tvalid_0's l2: 0.0172759\n",
            "[86]\tvalid_0's l2: 0.0172034\n",
            "[87]\tvalid_0's l2: 0.0171295\n",
            "[88]\tvalid_0's l2: 0.0169917\n",
            "[89]\tvalid_0's l2: 0.0168939\n",
            "[90]\tvalid_0's l2: 0.0167769\n",
            "[91]\tvalid_0's l2: 0.0166568\n",
            "[92]\tvalid_0's l2: 0.0166305\n",
            "[93]\tvalid_0's l2: 0.0165313\n",
            "[94]\tvalid_0's l2: 0.0164543\n",
            "[95]\tvalid_0's l2: 0.016382\n",
            "[96]\tvalid_0's l2: 0.0162751\n",
            "[97]\tvalid_0's l2: 0.0161679\n",
            "[98]\tvalid_0's l2: 0.0160751\n",
            "[99]\tvalid_0's l2: 0.0159883\n",
            "[100]\tvalid_0's l2: 0.0159023\n",
            "Did not meet early stopping. Best iteration is:\n",
            "[100]\tvalid_0's l2: 0.0159023\n",
            "\n",
            " There are 30 features with 0.0 importance\n",
            "zero_features ['MoSold', 'MiscVal', 'Alley', 'MiscFeature', 'SaleType', 'GarageCond', 'PoolArea', 'LotShape', '3SsnPorch', 'EnclosedPorch', 'LandContour', 'LotConfig', 'PavedDrive', 'Fence', 'HeatingQC', 'LandSlope', 'Condition1', 'BldgType', 'HouseStyle', 'RoofStyle', 'Exterior1st', 'MasVnrType', 'MasVnrArea', 'KitchenAbvGr', 'Foundation', 'BsmtHalfBath', 'BsmtFinType2', 'BsmtFinSF2', 'LowQualFinSF', 'MSSubClass']\n",
            "feature_importances:          feature  importance\n",
            "39     GrLivArea        47.0\n",
            "13   OverallQual        33.0\n",
            "32   TotalBsmtSF        22.0\n",
            "1       MSZoning        18.0\n",
            "3        LotArea        16.0\n",
            "..           ...         ...\n",
            "41  BsmtHalfBath         0.0\n",
            "29  BsmtFinType2         0.0\n",
            "30    BsmtFinSF2         0.0\n",
            "38  LowQualFinSF         0.0\n",
            "0     MSSubClass         0.0\n",
            "\n",
            "[70 rows x 2 columns]\n"
          ],
          "name": "stdout"
        }
      ]
    },
    {
      "cell_type": "code",
      "metadata": {
        "id": "N91hC9im9mL-",
        "colab_type": "code",
        "colab": {
          "base_uri": "https://localhost:8080/",
          "height": 287
        },
        "outputId": "e381dc53-25ad-4dd4-a681-c6091dee7e38"
      },
      "source": [
        "feature_importances.describe()"
      ],
      "execution_count": 73,
      "outputs": [
        {
          "output_type": "execute_result",
          "data": {
            "text/html": [
              "<div>\n",
              "<style scoped>\n",
              "    .dataframe tbody tr th:only-of-type {\n",
              "        vertical-align: middle;\n",
              "    }\n",
              "\n",
              "    .dataframe tbody tr th {\n",
              "        vertical-align: top;\n",
              "    }\n",
              "\n",
              "    .dataframe thead th {\n",
              "        text-align: right;\n",
              "    }\n",
              "</style>\n",
              "<table border=\"1\" class=\"dataframe\">\n",
              "  <thead>\n",
              "    <tr style=\"text-align: right;\">\n",
              "      <th></th>\n",
              "      <th>importance</th>\n",
              "    </tr>\n",
              "  </thead>\n",
              "  <tbody>\n",
              "    <tr>\n",
              "      <th>count</th>\n",
              "      <td>70.000000</td>\n",
              "    </tr>\n",
              "    <tr>\n",
              "      <th>mean</th>\n",
              "      <td>4.285714</td>\n",
              "    </tr>\n",
              "    <tr>\n",
              "      <th>std</th>\n",
              "      <td>8.070599</td>\n",
              "    </tr>\n",
              "    <tr>\n",
              "      <th>min</th>\n",
              "      <td>0.000000</td>\n",
              "    </tr>\n",
              "    <tr>\n",
              "      <th>25%</th>\n",
              "      <td>0.000000</td>\n",
              "    </tr>\n",
              "    <tr>\n",
              "      <th>50%</th>\n",
              "      <td>1.000000</td>\n",
              "    </tr>\n",
              "    <tr>\n",
              "      <th>75%</th>\n",
              "      <td>4.000000</td>\n",
              "    </tr>\n",
              "    <tr>\n",
              "      <th>max</th>\n",
              "      <td>47.000000</td>\n",
              "    </tr>\n",
              "  </tbody>\n",
              "</table>\n",
              "</div>"
            ],
            "text/plain": [
              "       importance\n",
              "count   70.000000\n",
              "mean     4.285714\n",
              "std      8.070599\n",
              "min      0.000000\n",
              "25%      0.000000\n",
              "50%      1.000000\n",
              "75%      4.000000\n",
              "max     47.000000"
            ]
          },
          "metadata": {
            "tags": []
          },
          "execution_count": 73
        }
      ]
    },
    {
      "cell_type": "code",
      "metadata": {
        "id": "JFkJnWOkAALA",
        "colab_type": "code",
        "colab": {
          "base_uri": "https://localhost:8080/",
          "height": 550
        },
        "outputId": "d2b342a0-470f-409c-ed01-cd5a3005df09"
      },
      "source": [
        "zero_features"
      ],
      "execution_count": 74,
      "outputs": [
        {
          "output_type": "execute_result",
          "data": {
            "text/plain": [
              "['MoSold',\n",
              " 'MiscVal',\n",
              " 'Alley',\n",
              " 'MiscFeature',\n",
              " 'SaleType',\n",
              " 'GarageCond',\n",
              " 'PoolArea',\n",
              " 'LotShape',\n",
              " '3SsnPorch',\n",
              " 'EnclosedPorch',\n",
              " 'LandContour',\n",
              " 'LotConfig',\n",
              " 'PavedDrive',\n",
              " 'Fence',\n",
              " 'HeatingQC',\n",
              " 'LandSlope',\n",
              " 'Condition1',\n",
              " 'BldgType',\n",
              " 'HouseStyle',\n",
              " 'RoofStyle',\n",
              " 'Exterior1st',\n",
              " 'MasVnrType',\n",
              " 'MasVnrArea',\n",
              " 'KitchenAbvGr',\n",
              " 'Foundation',\n",
              " 'BsmtHalfBath',\n",
              " 'BsmtFinType2',\n",
              " 'BsmtFinSF2',\n",
              " 'LowQualFinSF',\n",
              " 'MSSubClass']"
            ]
          },
          "metadata": {
            "tags": []
          },
          "execution_count": 74
        }
      ]
    },
    {
      "cell_type": "code",
      "metadata": {
        "id": "91VubADHAD34",
        "colab_type": "code",
        "colab": {}
      },
      "source": [
        "#X=X.drop(zero_features,axis=1)\n",
        "#test=test.drop(zero_features,axis=1)"
      ],
      "execution_count": null,
      "outputs": []
    },
    {
      "cell_type": "markdown",
      "metadata": {
        "id": "5Eq6imRYBcmg",
        "colab_type": "text"
      },
      "source": [
        "**Drop Columns having features importance less than 20%**"
      ]
    },
    {
      "cell_type": "code",
      "metadata": {
        "id": "mh8exGTIBVJ7",
        "colab_type": "code",
        "colab": {
          "base_uri": "https://localhost:8080/",
          "height": 34
        },
        "outputId": "c56ecaaf-9374-41d2-c144-0ad353ac110a"
      },
      "source": [
        "pp=np.percentile(feature_importances['importance'],20)\n",
        "print(pp)"
      ],
      "execution_count": 76,
      "outputs": [
        {
          "output_type": "stream",
          "text": [
            "0.0\n"
          ],
          "name": "stdout"
        }
      ]
    },
    {
      "cell_type": "code",
      "metadata": {
        "id": "-4b0u187CKQ3",
        "colab_type": "code",
        "colab": {}
      },
      "source": [
        "to_drop=feature_importances[feature_importances['importance']<=pp]['feature']\n",
        "X=X.drop(columns=to_drop)"
      ],
      "execution_count": 77,
      "outputs": []
    },
    {
      "cell_type": "code",
      "metadata": {
        "id": "ASToF2IQDZX_",
        "colab_type": "code",
        "colab": {
          "base_uri": "https://localhost:8080/",
          "height": 52
        },
        "outputId": "7a2f8f6c-a144-483d-e724-0014c617372a"
      },
      "source": [
        "print(X.shape)\n",
        "print(y.shape)"
      ],
      "execution_count": 78,
      "outputs": [
        {
          "output_type": "stream",
          "text": [
            "(1445, 40)\n",
            "(1445,)\n"
          ],
          "name": "stdout"
        }
      ]
    },
    {
      "cell_type": "code",
      "metadata": {
        "id": "_8sWqdqUDkq5",
        "colab_type": "code",
        "colab": {}
      },
      "source": [
        "\n",
        "from sklearn.model_selection import train_test_split\n",
        "X_train,X_test,y_train,y_test=train_test_split(X,y,test_size=0.2,random_state=1)"
      ],
      "execution_count": 81,
      "outputs": []
    },
    {
      "cell_type": "markdown",
      "metadata": {
        "id": "qlqsfneMEOE8",
        "colab_type": "text"
      },
      "source": [
        "**LINEAR REGRESSION**"
      ]
    },
    {
      "cell_type": "code",
      "metadata": {
        "id": "yhA5_hIvD-pF",
        "colab_type": "code",
        "colab": {
          "base_uri": "https://localhost:8080/",
          "height": 70
        },
        "outputId": "087404a3-e33f-4474-a1cd-d9b19afeb6f5"
      },
      "source": [
        "from sklearn import linear_model\n",
        "from sklearn.metrics import r2_score\n",
        "from sklearn.metrics import mean_squared_error\n",
        "\n",
        "#Create linear regression object\n",
        "regr = linear_model.LinearRegression()\n",
        "\n",
        "#Train the model using the training sets\n",
        "regr.fit(X_train,y_train)\n",
        "\n",
        "#make predictions using the testing set\n",
        "y_pred=regr.predict(X_test)\n",
        "\n",
        "print('The accuracy o the linear regression is:',r2_score(y_test,y_pred))\n",
        "print('RSME is \\n',mean_squared_error(y_test,y_pred))"
      ],
      "execution_count": 82,
      "outputs": [
        {
          "output_type": "stream",
          "text": [
            "The accuracy o the linear regression is: 0.9103887403459598\n",
            "RSME is \n",
            " 0.012975212340691145\n"
          ],
          "name": "stdout"
        }
      ]
    },
    {
      "cell_type": "markdown",
      "metadata": {
        "id": "I54d0B1RF7v1",
        "colab_type": "text"
      },
      "source": [
        "**XGBOOST REGRESSOR**"
      ]
    },
    {
      "cell_type": "code",
      "metadata": {
        "id": "C6Bz0_YfFOnP",
        "colab_type": "code",
        "colab": {
          "base_uri": "https://localhost:8080/",
          "height": 70
        },
        "outputId": "6c9c7be9-b1fe-4b06-d5c5-9f8bd4f63d46"
      },
      "source": [
        "import xgboost as xgb\n",
        "\n",
        "xg_reg = xgb.XGBRegressor(learning_rate =0.01, n_estimators=5580, \n",
        "                                     max_depth=3,min_child_weight=0 ,\n",
        "                                     gamma=0, subsample=0.7,\n",
        "                                     colsample_bytree=0.7,\n",
        "                                     objective= 'reg:squarederror',nthread=4,\n",
        "                                     scale_pos_weight=1,seed=27, \n",
        "                                     reg_alpha=0.00006)\n",
        "\n",
        "xg_reg.fit(X_train,y_train)\n",
        "\n",
        "preds=xg_reg.predict(X_test)\n",
        "\n",
        "print('The accuracy of xgboost is',r2_score(y_test,preds))\n",
        "print('RSME is : \\n',mean_squared_error(y_test,preds))"
      ],
      "execution_count": 88,
      "outputs": [
        {
          "output_type": "stream",
          "text": [
            "The accuracy of xgboost is 0.9128261255686689\n",
            "RSME is : \n",
            " 0.012622292507370993\n"
          ],
          "name": "stdout"
        }
      ]
    },
    {
      "cell_type": "markdown",
      "metadata": {
        "id": "FHvdjGMVIiIC",
        "colab_type": "text"
      },
      "source": [
        "**GRADIENT BOOSTING REGRESSOR**"
      ]
    },
    {
      "cell_type": "code",
      "metadata": {
        "id": "U54YjzJEHkrB",
        "colab_type": "code",
        "colab": {
          "base_uri": "https://localhost:8080/",
          "height": 52
        },
        "outputId": "f7de4451-acec-4206-d6d6-8ff4bf020695"
      },
      "source": [
        "from sklearn.ensemble import GradientBoostingRegressor\n",
        "\n",
        "gbr_model=GradientBoostingRegressor(n_estimators=4780,learning_rate=0.01,\n",
        "                                    max_depth=10,max_features='sqrt',\n",
        "                                    min_samples_leaf=1,min_samples_split=250,\n",
        "                                    loss='huber',random_state=6)\n",
        "gbr_model.fit(X_train,y_train)\n",
        "\n",
        "gbr_preds=gbr_model.predict(X_test)\n",
        "\n",
        "print('the accuracy of the Gradient boost is',r2_score(y_test,gbr_preds))\n",
        "print('RSME is :/n',mean_squared_error(y_test,gbr_preds))"
      ],
      "execution_count": 90,
      "outputs": [
        {
          "output_type": "stream",
          "text": [
            "the accuracy of the Gradient boost is 0.920181280165992\n",
            "RSME is :/n 0.011557307001449971\n"
          ],
          "name": "stdout"
        }
      ]
    },
    {
      "cell_type": "markdown",
      "metadata": {
        "id": "CU8Ujte-KCTr",
        "colab_type": "text"
      },
      "source": [
        "**RIDGE CV**"
      ]
    },
    {
      "cell_type": "code",
      "metadata": {
        "id": "GYTn2YhQJ1Dv",
        "colab_type": "code",
        "colab": {
          "base_uri": "https://localhost:8080/",
          "height": 70
        },
        "outputId": "107afc10-c8c4-4853-ae2a-5b949c95c9fd"
      },
      "source": [
        "from sklearn.linear_model import RidgeCV\n",
        "from sklearn.preprocessing import RobustScaler\n",
        "from sklearn.pipeline import make_pipeline\n",
        "\n",
        "r_alphas = [0.05, 0.1, 0.3, 1, 3, 5, 10, 15, 30]\n",
        "\n",
        "ridge_model=make_pipeline(RobustScaler(),RidgeCV(alphas=r_alphas,cv=3)).fit(X_train,y_train)\n",
        "\n",
        "ridge_preds=ridge_model.predict(X_test)\n",
        "print('The accuracy of the ridge CV is',r2_score(y_test,ridge_preds))\n",
        "print(\"RSME is \\n:\",mean_squared_error(y_test,ridge_preds))"
      ],
      "execution_count": 95,
      "outputs": [
        {
          "output_type": "stream",
          "text": [
            "The accuracy of the ridge CV is 0.9100993307175506\n",
            "RSME is \n",
            ": 0.013017117246353092\n"
          ],
          "name": "stdout"
        }
      ]
    },
    {
      "cell_type": "markdown",
      "metadata": {
        "id": "h3og8VCkLJyr",
        "colab_type": "text"
      },
      "source": [
        "**LASSO CV**"
      ]
    },
    {
      "cell_type": "code",
      "metadata": {
        "id": "fRWDNLigK3Vj",
        "colab_type": "code",
        "colab": {
          "base_uri": "https://localhost:8080/",
          "height": 70
        },
        "outputId": "fcb2fd9d-ffd7-4b33-92d1-6b2a24baae70"
      },
      "source": [
        "from sklearn.linear_model import LassoCV\n",
        "\n",
        "alpha_lasso = np.logspace(-3, -1, 30)\n",
        "\n",
        "\n",
        "lasso_model = make_pipeline(RobustScaler(),\n",
        "                             LassoCV(max_iter=1e6,\n",
        "                                    alphas = alpha_lasso,\n",
        "                                    random_state = 1)).fit(X_train, y_train)\n",
        "\n",
        "lasso_preds = lasso_model.predict(X_test)\n",
        "print('The accuracy of the lasso Regressor is',r2_score(y_test,lasso_preds))\n",
        "print ('RMSE is: \\n', mean_squared_error(y_test,lasso_preds))"
      ],
      "execution_count": 96,
      "outputs": [
        {
          "output_type": "stream",
          "text": [
            "The accuracy of the lasso Regressor is 0.9104856605294317\n",
            "RMSE is: \n",
            " 0.012961178836804454\n"
          ],
          "name": "stdout"
        }
      ]
    },
    {
      "cell_type": "markdown",
      "metadata": {
        "id": "_O1M6pI6LQYj",
        "colab_type": "text"
      },
      "source": [
        "**ELASTIC NET CV**"
      ]
    },
    {
      "cell_type": "code",
      "metadata": {
        "id": "LFe_PrMNLT3Q",
        "colab_type": "code",
        "colab": {
          "base_uri": "https://localhost:8080/",
          "height": 70
        },
        "outputId": "ec1711c7-9cc0-47fe-aa67-70e9ef13b6c9"
      },
      "source": [
        "from sklearn.linear_model import ElasticNetCV\n",
        "\n",
        "e_alphas = np.logspace(-3 -2, 30)\n",
        "\n",
        "e_l1ratio = [0.8, 0.85, 0.9, 0.95, 0.99, 1]\n",
        "\n",
        "elastic_model= make_pipeline(RobustScaler(), \n",
        "                           ElasticNetCV(max_iter=1e6, alphas=e_alphas, \n",
        "                                         l1_ratio=e_l1ratio)).fit(X_train, y_train)\n",
        "\n",
        "elastic_preds = elastic_model.predict(X_test)\n",
        "print('The accuracy of the  Elastic Net CV is',r2_score(y_test,elastic_preds))\n",
        "print ('RMSE is: \\n', mean_squared_error(y_test,elastic_preds))"
      ],
      "execution_count": 97,
      "outputs": [
        {
          "output_type": "stream",
          "text": [
            "The accuracy of the  Elastic Net CV is 0.9104919922999561\n",
            "RMSE is: \n",
            " 0.012960262031624339\n"
          ],
          "name": "stdout"
        }
      ]
    },
    {
      "cell_type": "code",
      "metadata": {
        "id": "w1tJ4tLqLYJ4",
        "colab_type": "code",
        "colab": {}
      },
      "source": [
        "from mlxtend.regressor import StackingCVRegressor\n",
        "from sklearn.pipeline import make_pipeline\n",
        "from sklearn.preprocessing import RobustScaler\n",
        "\n",
        "#setup models\n",
        "\n",
        "ridge=make_pipeline(RobustScaler(),RidgeCV(alphas=r_alphas))\n",
        "lasso=make_pipeline(RobustScaler(),LassoCV(max_iter=1e6,alphas=alpha_lasso,random_state=1)).fit(X_train,y_train)\n",
        "\n",
        "elasticnet=make_pipeline(RobustScaler(),ElasticNetCV(max_iter=1e6,alphas=e_alphas,l1_ratio=e_l1ratio)).fit(X_train,y_train)\n",
        "\n",
        "lgbm_model=LGBMRegressor(objective='regression',\n",
        "                              num_leaves=4,\n",
        "                              learning_rate=0.05, \n",
        "                              n_estimators=1250,\n",
        "                              max_bin=75, \n",
        "                              bagging_fraction=0.8,\n",
        "                              bagging_freq=9, \n",
        "                              feature_fraction=0.45,\n",
        "                              feature_fraction_seed=9, \n",
        "                              bagging_seed=12,\n",
        "                              min_data_in_leaf=3, \n",
        "                              min_sum_hessian_in_leaf=2).fit(X_train,y_train)\n",
        "\n",
        "gbr_model = GradientBoostingRegressor(n_estimators=4780, learning_rate=0.01,\n",
        "                                   max_depth=10, max_features='sqrt',\n",
        "                                   min_samples_leaf=1, min_samples_split=250, \n",
        "                                   loss='huber', random_state =6).fit(X_train,y_train)\n",
        "\n",
        "\n",
        "#Stack\n",
        "stack_gen=StackingCVRegressor(regressors=(ridge,lasso,elasticnet,gbr_model,lgbm_model),meta_regressor=gbr_model,use_features_in_secondary=True)\n",
        "\n",
        "#Prepare Dataframes\n",
        "stackX = np.array(X_train)\n",
        "stacky = np.array(y_train)\n",
        "stack_gen_model = stack_gen.fit(stackX,stacky)"
      ],
      "execution_count": 99,
      "outputs": []
    },
    {
      "cell_type": "code",
      "metadata": {
        "id": "ohaazQn1Oam2",
        "colab_type": "code",
        "colab": {}
      },
      "source": [
        "em_preds = elastic_model.predict(X_test)\n",
        "lasso_preds = lasso_model.predict(X_test)\n",
        "ridge_preds = ridge_model.predict(X_test)\n",
        "stack_gen_preds = stack_gen_model.predict(X_test)\n",
        "lgbm_preds = lgbm_model.predict(X_test)\n",
        "gbr_preds = gbr_model.predict(X_test)"
      ],
      "execution_count": 100,
      "outputs": []
    },
    {
      "cell_type": "code",
      "metadata": {
        "id": "i4FpBt-zOmex",
        "colab_type": "code",
        "colab": {
          "base_uri": "https://localhost:8080/",
          "height": 70
        },
        "outputId": "e5051020-b7e6-47f2-ce31-40ad61a3799b"
      },
      "source": [
        "print ('RMSE is: \\n', mean_squared_error(y_test,stack_gen_preds))\n",
        "print('The accuracy of the stack is',r2_score(y_test,stack_gen_preds))"
      ],
      "execution_count": 101,
      "outputs": [
        {
          "output_type": "stream",
          "text": [
            "RMSE is: \n",
            " 0.011874565867106007\n",
            "The accuracy of the stack is 0.9179901817977063\n"
          ],
          "name": "stdout"
        }
      ]
    },
    {
      "cell_type": "code",
      "metadata": {
        "id": "MDw9fe49PHtt",
        "colab_type": "code",
        "colab": {}
      },
      "source": [
        "#feats = test.select_dtypes(include=[np.number]).interpolate().dropna()\n",
        "feats = test.drop(['Id'], axis=1)\n",
        "\n",
        "feats = feats[X_train.columns]\n",
        "lasso_preds = lasso_model.predict(feats)\n",
        "em_preds = elastic_model.predict(feats)\n",
        "ridge_preds = ridge_model.predict(feats)\n",
        "stack_gen_preds = stack_gen_model.predict(feats)\n",
        "lgbm_preds = lgbm_model.predict(feats)\n",
        "gbr_preds = gbr_model.predict(feats)\n",
        "stack_preds = ((0.1*em_preds) + (0.1*lasso_preds) + (0.1*ridge_preds) +(0.1 * gbr_preds ) \n",
        "               + (0.1*lgbm_preds) + (0.5*stack_gen_preds) )\n",
        "#predictions = model.predict(feats)\n",
        "final_predictions = np.exp(stack_preds)\n",
        "print (\"Original predictions are: \\n\", stack_preds[:5], \"\\n\")\n",
        "print (\"Final predictions are: \\n\", final_predictions[:5])"
      ],
      "execution_count": null,
      "outputs": []
    },
    {
      "cell_type": "code",
      "metadata": {
        "id": "XJY-yJQ-PXrv",
        "colab_type": "code",
        "colab": {}
      },
      "source": [
        "submission = pd.DataFrame()\n",
        "submission['Id'] = test.Id\n",
        "submission['SalePrice'] = final_predictions \n",
        "submission.to_csv('submission1.csv', index=False)"
      ],
      "execution_count": null,
      "outputs": []
    }
  ]
}